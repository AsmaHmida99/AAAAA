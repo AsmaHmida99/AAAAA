{
 "cells": [
  {
   "cell_type": "code",
   "execution_count": 1,
   "id": "75452a46-3c47-44d6-91f8-68320ec5f062",
   "metadata": {},
   "outputs": [],
   "source": [
    "# 1_data_preparation.ipynb  \n",
    "  \n",
    "# 📦 Importation des bibliothèques  \n",
    "import pandas as pd  \n",
    "import numpy as np  \n",
    "import matplotlib.pyplot as plt  \n",
    "import seaborn as sns  \n",
    "import pickle  \n",
    "import warnings  \n",
    "warnings.filterwarnings(\"ignore\")  \n",
    "  "
   ]
  },
  {
   "cell_type": "code",
   "execution_count": 3,
   "id": "b46e4e35-b7d8-444d-abb0-a98e3ce92402",
   "metadata": {},
   "outputs": [
    {
     "name": "stdout",
     "output_type": "stream",
     "text": [
      "Chargement des données...\n"
     ]
    }
   ],
   "source": [
    "# 📊 Chargement des données  \n",
    "print(\"Chargement des données...\")  \n",
    "df = pd.read_csv('../data/raw/dataset.csv')"
   ]
  },
  {
   "cell_type": "code",
   "execution_count": 5,
   "id": "6715ce72-a2d5-4ed3-81cc-635ed2d85f6b",
   "metadata": {},
   "outputs": [
    {
     "name": "stdout",
     "output_type": "stream",
     "text": [
      "Aperçu des données:\n",
      "Forme du dataset: (5000, 34)\n",
      "\n",
      "Colonnes disponibles:\n",
      "['Uniq Id', 'Crawl Timestamp', 'Dataset Origin', 'Product Id', 'Product Barcode', 'Product Company Type Source', 'Product Brand Source', 'Product Brand Normalised Source', 'Product Name Source', 'Match Rank', 'Match Score', 'Match Type', 'Retailer', 'Product Category', 'Product Brand', 'Product Name', 'Product Price', 'Sku', 'Upc', 'Product Url', 'Market', 'Product Description', 'Product Currency', 'Product Available Inventory', 'Product Image Url', 'Product Model Number', 'Product Tags', 'Product Contents', 'Product Rating', 'Product Reviews Count', 'Bsr', 'Joining Key', 'Clicked', 'View_Time_Sec']\n",
      "\n",
      "Premières lignes:\n"
     ]
    },
    {
     "data": {
      "text/html": [
       "<div>\n",
       "<style scoped>\n",
       "    .dataframe tbody tr th:only-of-type {\n",
       "        vertical-align: middle;\n",
       "    }\n",
       "\n",
       "    .dataframe tbody tr th {\n",
       "        vertical-align: top;\n",
       "    }\n",
       "\n",
       "    .dataframe thead th {\n",
       "        text-align: right;\n",
       "    }\n",
       "</style>\n",
       "<table border=\"1\" class=\"dataframe\">\n",
       "  <thead>\n",
       "    <tr style=\"text-align: right;\">\n",
       "      <th></th>\n",
       "      <th>Uniq Id</th>\n",
       "      <th>Crawl Timestamp</th>\n",
       "      <th>Dataset Origin</th>\n",
       "      <th>Product Id</th>\n",
       "      <th>Product Barcode</th>\n",
       "      <th>Product Company Type Source</th>\n",
       "      <th>Product Brand Source</th>\n",
       "      <th>Product Brand Normalised Source</th>\n",
       "      <th>Product Name Source</th>\n",
       "      <th>Match Rank</th>\n",
       "      <th>...</th>\n",
       "      <th>Product Image Url</th>\n",
       "      <th>Product Model Number</th>\n",
       "      <th>Product Tags</th>\n",
       "      <th>Product Contents</th>\n",
       "      <th>Product Rating</th>\n",
       "      <th>Product Reviews Count</th>\n",
       "      <th>Bsr</th>\n",
       "      <th>Joining Key</th>\n",
       "      <th>Clicked</th>\n",
       "      <th>View_Time_Sec</th>\n",
       "    </tr>\n",
       "  </thead>\n",
       "  <tbody>\n",
       "    <tr>\n",
       "      <th>0</th>\n",
       "      <td>1705736792d82aa2f2d3caf1c07c53f4</td>\n",
       "      <td>2020-09-24 03:21:12 +0000</td>\n",
       "      <td>NaN</td>\n",
       "      <td>2e17bf4acecdece67fc00f07ad62c910</td>\n",
       "      <td>NaN</td>\n",
       "      <td>Competitor</td>\n",
       "      <td>NaN</td>\n",
       "      <td>NaN</td>\n",
       "      <td>NaN</td>\n",
       "      <td>NaN</td>\n",
       "      <td>...</td>\n",
       "      <td>https://i5.walmartimages.com/asr/0e1f4c51-c1a4...</td>\n",
       "      <td>NaN</td>\n",
       "      <td>OPI Infinite Shine, Nail Lacquer Nail Polish, ...</td>\n",
       "      <td>NaN</td>\n",
       "      <td>NaN</td>\n",
       "      <td>NaN</td>\n",
       "      <td>NaN</td>\n",
       "      <td>81350af1be98d3753cf964709f0c766a</td>\n",
       "      <td>0</td>\n",
       "      <td>0</td>\n",
       "    </tr>\n",
       "    <tr>\n",
       "      <th>1</th>\n",
       "      <td>95a9fe6f4810fcfc7ff244fd06784f11</td>\n",
       "      <td>2020-10-30 14:04:08 +0000</td>\n",
       "      <td>NaN</td>\n",
       "      <td>076e5854a62dd283c253d6bae415af1f</td>\n",
       "      <td>NaN</td>\n",
       "      <td>Competitor</td>\n",
       "      <td>NaN</td>\n",
       "      <td>NaN</td>\n",
       "      <td>NaN</td>\n",
       "      <td>NaN</td>\n",
       "      <td>...</td>\n",
       "      <td>https://i5.walmartimages.com/asr/9c8e42e4-13a5...</td>\n",
       "      <td>NaN</td>\n",
       "      <td>Nice 'n Easy Permanent Color, 111 Natural Medi...</td>\n",
       "      <td>NaN</td>\n",
       "      <td>NaN</td>\n",
       "      <td>NaN</td>\n",
       "      <td>NaN</td>\n",
       "      <td>0353e63907dc0de0c734db4690300057</td>\n",
       "      <td>1</td>\n",
       "      <td>147</td>\n",
       "    </tr>\n",
       "    <tr>\n",
       "      <th>2</th>\n",
       "      <td>8d4d0330178d3ed181b15a4102b287f2</td>\n",
       "      <td>2020-08-06 05:51:47 +0000</td>\n",
       "      <td>NaN</td>\n",
       "      <td>8a4fe5d9c7a6ed26cc44d785a454b124</td>\n",
       "      <td>NaN</td>\n",
       "      <td>Competitor</td>\n",
       "      <td>NaN</td>\n",
       "      <td>NaN</td>\n",
       "      <td>NaN</td>\n",
       "      <td>NaN</td>\n",
       "      <td>...</td>\n",
       "      <td>https://i5.walmartimages.com/asr/e3a601c2-6a2b...</td>\n",
       "      <td>NaN</td>\n",
       "      <td>Clairol Nice 'N Easy Permanent Color 7/106A Na...</td>\n",
       "      <td>NaN</td>\n",
       "      <td>4.5</td>\n",
       "      <td>29221.0</td>\n",
       "      <td>NaN</td>\n",
       "      <td>b6985c8e94815fbca2319dbb8bf228af</td>\n",
       "      <td>0</td>\n",
       "      <td>0</td>\n",
       "    </tr>\n",
       "    <tr>\n",
       "      <th>3</th>\n",
       "      <td>fddc4df45b35efd886794b261f730c51</td>\n",
       "      <td>2020-07-15 11:22:04 +0000</td>\n",
       "      <td>NaN</td>\n",
       "      <td>03b5fb878a33eadff8b033419eab9669</td>\n",
       "      <td>NaN</td>\n",
       "      <td>Competitor</td>\n",
       "      <td>NaN</td>\n",
       "      <td>NaN</td>\n",
       "      <td>NaN</td>\n",
       "      <td>NaN</td>\n",
       "      <td>...</td>\n",
       "      <td>https://i5.walmartimages.com/asr/25b4b467-bc61...</td>\n",
       "      <td>NaN</td>\n",
       "      <td>Kokie Professional Matte Lipstick, Hot Berry, ...</td>\n",
       "      <td>NaN</td>\n",
       "      <td>NaN</td>\n",
       "      <td>NaN</td>\n",
       "      <td>NaN</td>\n",
       "      <td>85b70fded09186f00467cea2f935b779</td>\n",
       "      <td>0</td>\n",
       "      <td>0</td>\n",
       "    </tr>\n",
       "    <tr>\n",
       "      <th>4</th>\n",
       "      <td>0990cf89a59ca6a0460349a3e4f51d42</td>\n",
       "      <td>2020-11-26T12:27:20+00:00</td>\n",
       "      <td>NaN</td>\n",
       "      <td>ce3d761e57d6ccad80619297b5b1bcbc</td>\n",
       "      <td>NaN</td>\n",
       "      <td>Competitor</td>\n",
       "      <td>NaN</td>\n",
       "      <td>NaN</td>\n",
       "      <td>NaN</td>\n",
       "      <td>NaN</td>\n",
       "      <td>...</td>\n",
       "      <td>https://i5.walmartimages.com/asr/1a2ebb06-cd01...</td>\n",
       "      <td>NaN</td>\n",
       "      <td>Gillette TRAC II Plus Razor Blade Refills, Fit...</td>\n",
       "      <td>NaN</td>\n",
       "      <td>NaN</td>\n",
       "      <td>131.0</td>\n",
       "      <td>NaN</td>\n",
       "      <td>41c870871328e97da6fb036bb7d4b2da</td>\n",
       "      <td>1</td>\n",
       "      <td>177</td>\n",
       "    </tr>\n",
       "  </tbody>\n",
       "</table>\n",
       "<p>5 rows × 34 columns</p>\n",
       "</div>"
      ],
      "text/plain": [
       "                            Uniq Id            Crawl Timestamp  \\\n",
       "0  1705736792d82aa2f2d3caf1c07c53f4  2020-09-24 03:21:12 +0000   \n",
       "1  95a9fe6f4810fcfc7ff244fd06784f11  2020-10-30 14:04:08 +0000   \n",
       "2  8d4d0330178d3ed181b15a4102b287f2  2020-08-06 05:51:47 +0000   \n",
       "3  fddc4df45b35efd886794b261f730c51  2020-07-15 11:22:04 +0000   \n",
       "4  0990cf89a59ca6a0460349a3e4f51d42  2020-11-26T12:27:20+00:00   \n",
       "\n",
       "   Dataset Origin                        Product Id  Product Barcode  \\\n",
       "0             NaN  2e17bf4acecdece67fc00f07ad62c910              NaN   \n",
       "1             NaN  076e5854a62dd283c253d6bae415af1f              NaN   \n",
       "2             NaN  8a4fe5d9c7a6ed26cc44d785a454b124              NaN   \n",
       "3             NaN  03b5fb878a33eadff8b033419eab9669              NaN   \n",
       "4             NaN  ce3d761e57d6ccad80619297b5b1bcbc              NaN   \n",
       "\n",
       "  Product Company Type Source Product Brand Source  \\\n",
       "0                  Competitor                  NaN   \n",
       "1                  Competitor                  NaN   \n",
       "2                  Competitor                  NaN   \n",
       "3                  Competitor                  NaN   \n",
       "4                  Competitor                  NaN   \n",
       "\n",
       "  Product Brand Normalised Source Product Name Source  Match Rank  ...  \\\n",
       "0                             NaN                 NaN         NaN  ...   \n",
       "1                             NaN                 NaN         NaN  ...   \n",
       "2                             NaN                 NaN         NaN  ...   \n",
       "3                             NaN                 NaN         NaN  ...   \n",
       "4                             NaN                 NaN         NaN  ...   \n",
       "\n",
       "                                   Product Image Url  Product Model Number  \\\n",
       "0  https://i5.walmartimages.com/asr/0e1f4c51-c1a4...                   NaN   \n",
       "1  https://i5.walmartimages.com/asr/9c8e42e4-13a5...                   NaN   \n",
       "2  https://i5.walmartimages.com/asr/e3a601c2-6a2b...                   NaN   \n",
       "3  https://i5.walmartimages.com/asr/25b4b467-bc61...                   NaN   \n",
       "4  https://i5.walmartimages.com/asr/1a2ebb06-cd01...                   NaN   \n",
       "\n",
       "                                        Product Tags Product Contents  \\\n",
       "0  OPI Infinite Shine, Nail Lacquer Nail Polish, ...              NaN   \n",
       "1  Nice 'n Easy Permanent Color, 111 Natural Medi...              NaN   \n",
       "2  Clairol Nice 'N Easy Permanent Color 7/106A Na...              NaN   \n",
       "3  Kokie Professional Matte Lipstick, Hot Berry, ...              NaN   \n",
       "4  Gillette TRAC II Plus Razor Blade Refills, Fit...              NaN   \n",
       "\n",
       "  Product Rating Product Reviews Count  Bsr                       Joining Key  \\\n",
       "0            NaN                   NaN  NaN  81350af1be98d3753cf964709f0c766a   \n",
       "1            NaN                   NaN  NaN  0353e63907dc0de0c734db4690300057   \n",
       "2            4.5               29221.0  NaN  b6985c8e94815fbca2319dbb8bf228af   \n",
       "3            NaN                   NaN  NaN  85b70fded09186f00467cea2f935b779   \n",
       "4            NaN                 131.0  NaN  41c870871328e97da6fb036bb7d4b2da   \n",
       "\n",
       "   Clicked View_Time_Sec  \n",
       "0        0             0  \n",
       "1        1           147  \n",
       "2        0             0  \n",
       "3        0             0  \n",
       "4        1           177  \n",
       "\n",
       "[5 rows x 34 columns]"
      ]
     },
     "metadata": {},
     "output_type": "display_data"
    }
   ],
   "source": [
    "# 📋 Aperçu des données  \n",
    "print(\"Aperçu des données:\")  \n",
    "print(f\"Forme du dataset: {df.shape}\")  \n",
    "print(\"\\nColonnes disponibles:\")  \n",
    "print(df.columns.tolist())  \n",
    "print(\"\\nPremières lignes:\")  \n",
    "display(df.head())  "
   ]
  },
  {
   "cell_type": "code",
   "execution_count": 7,
   "id": "e6334c05-79e5-4dcf-ac4b-a7c61e1b6f7c",
   "metadata": {},
   "outputs": [
    {
     "name": "stdout",
     "output_type": "stream",
     "text": [
      "\n",
      "Colonnes sélectionnées:\n",
      "['Uniq Id', 'Product Id', 'Product Rating', 'Product Reviews Count', 'Clicked', 'View_Time_Sec', 'Product Name', 'Product Description', 'Product Tags', 'Product Category', 'Product Brand']\n"
     ]
    }
   ],
   "source": [
    "# 🔍 Sélection des colonnes pertinentes  \n",
    "df = df[['Uniq Id', 'Product Id', 'Product Rating', 'Product Reviews Count',   \n",
    "         'Clicked', 'View_Time_Sec', 'Product Name', 'Product Description',  \n",
    "         'Product Tags', 'Product Category', 'Product Brand']]  \n",
    "  \n",
    "print(\"\\nColonnes sélectionnées:\")  \n",
    "print(df.columns.tolist())  \n",
    "  "
   ]
  },
  {
   "cell_type": "code",
   "execution_count": 9,
   "id": "e0b229f4-abc6-4963-9634-7ff184a03096",
   "metadata": {},
   "outputs": [],
   "source": [
    "# 🧹 Nettoyage des données  \n",
    "# Conversion des types  \n",
    "df[\"Uniq Id\"] = df[\"Uniq Id\"].astype(str)  \n",
    "df[\"Product Id\"] = df[\"Product Id\"].astype(str)  \n",
    "df[\"Product Rating\"] = pd.to_numeric(df[\"Product Rating\"], errors=\"coerce\")  "
   ]
  },
  {
   "cell_type": "code",
   "execution_count": 11,
   "id": "7d8f397f-e407-4727-8cd5-cad9af3bb34e",
   "metadata": {},
   "outputs": [
    {
     "name": "stdout",
     "output_type": "stream",
     "text": [
      "\n",
      "📊 Analyse des valeurs manquantes:\n"
     ]
    },
    {
     "data": {
      "text/html": [
       "<div>\n",
       "<style scoped>\n",
       "    .dataframe tbody tr th:only-of-type {\n",
       "        vertical-align: middle;\n",
       "    }\n",
       "\n",
       "    .dataframe tbody tr th {\n",
       "        vertical-align: top;\n",
       "    }\n",
       "\n",
       "    .dataframe thead th {\n",
       "        text-align: right;\n",
       "    }\n",
       "</style>\n",
       "<table border=\"1\" class=\"dataframe\">\n",
       "  <thead>\n",
       "    <tr style=\"text-align: right;\">\n",
       "      <th></th>\n",
       "      <th>Valeurs manquantes</th>\n",
       "      <th>Pourcentage (%)</th>\n",
       "    </tr>\n",
       "  </thead>\n",
       "  <tbody>\n",
       "    <tr>\n",
       "      <th>Uniq Id</th>\n",
       "      <td>0</td>\n",
       "      <td>0.00</td>\n",
       "    </tr>\n",
       "    <tr>\n",
       "      <th>Product Id</th>\n",
       "      <td>0</td>\n",
       "      <td>0.00</td>\n",
       "    </tr>\n",
       "    <tr>\n",
       "      <th>Product Rating</th>\n",
       "      <td>2806</td>\n",
       "      <td>56.12</td>\n",
       "    </tr>\n",
       "    <tr>\n",
       "      <th>Product Reviews Count</th>\n",
       "      <td>1654</td>\n",
       "      <td>33.08</td>\n",
       "    </tr>\n",
       "    <tr>\n",
       "      <th>Clicked</th>\n",
       "      <td>0</td>\n",
       "      <td>0.00</td>\n",
       "    </tr>\n",
       "    <tr>\n",
       "      <th>View_Time_Sec</th>\n",
       "      <td>0</td>\n",
       "      <td>0.00</td>\n",
       "    </tr>\n",
       "    <tr>\n",
       "      <th>Product Name</th>\n",
       "      <td>0</td>\n",
       "      <td>0.00</td>\n",
       "    </tr>\n",
       "    <tr>\n",
       "      <th>Product Description</th>\n",
       "      <td>1127</td>\n",
       "      <td>22.54</td>\n",
       "    </tr>\n",
       "    <tr>\n",
       "      <th>Product Tags</th>\n",
       "      <td>0</td>\n",
       "      <td>0.00</td>\n",
       "    </tr>\n",
       "    <tr>\n",
       "      <th>Product Category</th>\n",
       "      <td>10</td>\n",
       "      <td>0.20</td>\n",
       "    </tr>\n",
       "    <tr>\n",
       "      <th>Product Brand</th>\n",
       "      <td>13</td>\n",
       "      <td>0.26</td>\n",
       "    </tr>\n",
       "  </tbody>\n",
       "</table>\n",
       "</div>"
      ],
      "text/plain": [
       "                       Valeurs manquantes  Pourcentage (%)\n",
       "Uniq Id                                 0             0.00\n",
       "Product Id                              0             0.00\n",
       "Product Rating                       2806            56.12\n",
       "Product Reviews Count                1654            33.08\n",
       "Clicked                                 0             0.00\n",
       "View_Time_Sec                           0             0.00\n",
       "Product Name                            0             0.00\n",
       "Product Description                  1127            22.54\n",
       "Product Tags                            0             0.00\n",
       "Product Category                       10             0.20\n",
       "Product Brand                          13             0.26"
      ]
     },
     "metadata": {},
     "output_type": "display_data"
    }
   ],
   "source": [
    "# Analyse des valeurs manquantes  \n",
    "print(\"\\n📊 Analyse des valeurs manquantes:\")  \n",
    "missing_values = df.isnull().sum()  \n",
    "missing_percentage = (missing_values / len(df)) * 100  \n",
    "missing_df = pd.DataFrame({  \n",
    "    'Valeurs manquantes': missing_values,  \n",
    "    'Pourcentage (%)': missing_percentage  \n",
    "})  \n",
    "display(missing_df) "
   ]
  },
  {
   "cell_type": "code",
   "execution_count": 13,
   "id": "95b232fb-6542-4f8a-ae02-e78fecc61e64",
   "metadata": {},
   "outputs": [
    {
     "name": "stdout",
     "output_type": "stream",
     "text": [
      "\n",
      "🔍 Analyse de Product Rating:\n",
      "Nombre de valeurs NaN dans Product Rating : 2806\n",
      "Nombre de valeurs = 0 dans Product Rating : 0\n",
      "Pourcentage de lignes problématiques : 56.12%\n"
     ]
    }
   ],
   "source": [
    "# Gestion des valeurs manquantes pour Product Rating  \n",
    "print(\"\\n🔍 Analyse de Product Rating:\")  \n",
    "total_lignes = len(df)  \n",
    "valeurs_nan = df[\"Product Rating\"].isna().sum()  \n",
    "valeurs_zero = (df[\"Product Rating\"] == 0).sum()  \n",
    "total_problèmes = valeurs_nan + valeurs_zero  \n",
    "pourcentage = total_problèmes / total_lignes * 100  \n",
    "  \n",
    "print(f\"Nombre de valeurs NaN dans Product Rating : {valeurs_nan}\")  \n",
    "print(f\"Nombre de valeurs = 0 dans Product Rating : {valeurs_zero}\")  \n",
    "print(f\"Pourcentage de lignes problématiques : {pourcentage:.2f}%\") "
   ]
  },
  {
   "cell_type": "code",
   "execution_count": 15,
   "id": "5b7c48b0-5c3e-4f41-9baf-b7c570e1a601",
   "metadata": {},
   "outputs": [],
   "source": [
    "  \n",
    "# Imputation des notes manquantes par la moyenne de la catégorie  \n",
    "moyennes_par_cat = df.groupby('Product Category')['Product Rating'].mean().to_dict()  \n",
    "moyenne_globale = df['Product Rating'].mean()  \n",
    "  \n",
    "def imputer_note(row):  \n",
    "    if pd.isna(row['Product Rating']) or row['Product Rating'] == 0:  \n",
    "        moyenne_cat = moyennes_par_cat.get(row['Product Category'])  \n",
    "        return moyenne_cat if not pd.isna(moyenne_cat) else moyenne_globale  \n",
    "    return row['Product Rating']  \n",
    "  \n",
    "df['Product Rating'] = df.apply(imputer_note, axis=1)  "
   ]
  },
  {
   "cell_type": "code",
   "execution_count": 17,
   "id": "dc3ca1f9-0e45-4a2f-826a-0fe0be20acd4",
   "metadata": {},
   "outputs": [],
   "source": [
    "# Remplissage des autres valeurs manquantes  \n",
    "df['Product Description'] = df['Product Description'].fillna(\"\")  \n",
    "df['Product Brand'] = df['Product Brand'].fillna(\"Unknown\")  \n",
    "df['Product Category'] = df['Product Category'].fillna(\"Unknown\")"
   ]
  },
  {
   "cell_type": "code",
   "execution_count": 19,
   "id": "1aead132-ccc9-4603-92dd-e6c8b5963b0e",
   "metadata": {},
   "outputs": [
    {
     "name": "stdout",
     "output_type": "stream",
     "text": [
      "\n",
      "🔍 Analyse de Product Reviews Count:\n",
      "Product Reviews Count : 1654 valeurs manquantes (33.08%)\n"
     ]
    }
   ],
   "source": [
    "  \n",
    "# Gestion des valeurs manquantes pour Product Reviews Count  \n",
    "print(\"\\n🔍 Analyse de Product Reviews Count:\")  \n",
    "df['Product Reviews Count'] = pd.to_numeric(df['Product Reviews Count'], errors='coerce')  \n",
    "manquantes = df['Product Reviews Count'].isna().sum()  \n",
    "pourcentage = (manquantes / total_lignes) * 100  \n",
    "print(f\"Product Reviews Count : {manquantes} valeurs manquantes ({pourcentage:.2f}%)\")  \n",
    "  \n",
    "moyenne = df['Product Reviews Count'].mean()  \n",
    "df['Product Reviews Count'] = df['Product Reviews Count'].fillna(moyenne)  "
   ]
  },
  {
   "cell_type": "code",
   "execution_count": 21,
   "id": "8c5fe9fd-d55b-428a-a611-355acc53c1b8",
   "metadata": {},
   "outputs": [
    {
     "name": "stdout",
     "output_type": "stream",
     "text": [
      "\n",
      "🔍 Vérification des doublons:\n",
      "Doublons trouvés : 0\n"
     ]
    }
   ],
   "source": [
    "# Vérification des doublons  \n",
    "print(\"\\n🔍 Vérification des doublons:\")  \n",
    "doublons = df.duplicated().sum()  \n",
    "print(f\"Doublons trouvés : {doublons}\")  \n",
    "df.drop_duplicates(inplace=True)  "
   ]
  },
  {
   "cell_type": "code",
   "execution_count": 23,
   "id": "5632e93a-4e67-404a-a37d-23462018b278",
   "metadata": {},
   "outputs": [],
   "source": [
    "  \n",
    "# 🔧 Création de fonctionnalités  \n",
    "# Création d'une colonne de texte combinée pour le filtrage basé sur le contenu  \n",
    "df['Full_Text'] = df['Product Description'] + \" \" + df['Product Tags']  \n",
    "df['Full_Text'] = df['Full_Text'].str.lower()  \n",
    "  \n",
    "# Normalisation du temps de visionnage  \n",
    "df['Norm_View_Time'] = df['View_Time_Sec'] / df['View_Time_Sec'].max()  \n",
    "  \n",
    "# Création de la colonne 'Rating' hybride  \n",
    "df['Rating'] = (  \n",
    "    0.5 * df['Product Rating'] +  \n",
    "    0.3 * df['Clicked'] * 5 +  \n",
    "    0.2 * df['Norm_View_Time'] * 5  \n",
    ")  "
   ]
  },
  {
   "cell_type": "code",
   "execution_count": 25,
   "id": "690ff6d5-3f7f-402b-86f3-c464491d7d19",
   "metadata": {},
   "outputs": [
    {
     "name": "stdout",
     "output_type": "stream",
     "text": [
      "\n",
      "📊 Statistiques descriptives après nettoyage:\n"
     ]
    },
    {
     "data": {
      "text/html": [
       "<div>\n",
       "<style scoped>\n",
       "    .dataframe tbody tr th:only-of-type {\n",
       "        vertical-align: middle;\n",
       "    }\n",
       "\n",
       "    .dataframe tbody tr th {\n",
       "        vertical-align: top;\n",
       "    }\n",
       "\n",
       "    .dataframe thead th {\n",
       "        text-align: right;\n",
       "    }\n",
       "</style>\n",
       "<table border=\"1\" class=\"dataframe\">\n",
       "  <thead>\n",
       "    <tr style=\"text-align: right;\">\n",
       "      <th></th>\n",
       "      <th>Product Rating</th>\n",
       "      <th>Product Reviews Count</th>\n",
       "      <th>Clicked</th>\n",
       "      <th>View_Time_Sec</th>\n",
       "      <th>Norm_View_Time</th>\n",
       "      <th>Rating</th>\n",
       "    </tr>\n",
       "  </thead>\n",
       "  <tbody>\n",
       "    <tr>\n",
       "      <th>count</th>\n",
       "      <td>5000.000000</td>\n",
       "      <td>5000.000000</td>\n",
       "      <td>5000.000000</td>\n",
       "      <td>5000.000000</td>\n",
       "      <td>5000.000000</td>\n",
       "      <td>5000.000000</td>\n",
       "    </tr>\n",
       "    <tr>\n",
       "      <th>mean</th>\n",
       "      <td>4.311178</td>\n",
       "      <td>571.035565</td>\n",
       "      <td>0.694800</td>\n",
       "      <td>64.052600</td>\n",
       "      <td>0.355848</td>\n",
       "      <td>3.553637</td>\n",
       "    </tr>\n",
       "    <tr>\n",
       "      <th>std</th>\n",
       "      <td>0.587811</td>\n",
       "      <td>2033.317010</td>\n",
       "      <td>0.460538</td>\n",
       "      <td>60.194755</td>\n",
       "      <td>0.334415</td>\n",
       "      <td>1.003667</td>\n",
       "    </tr>\n",
       "    <tr>\n",
       "      <th>min</th>\n",
       "      <td>1.000000</td>\n",
       "      <td>1.000000</td>\n",
       "      <td>0.000000</td>\n",
       "      <td>0.000000</td>\n",
       "      <td>0.000000</td>\n",
       "      <td>0.500000</td>\n",
       "    </tr>\n",
       "    <tr>\n",
       "      <th>25%</th>\n",
       "      <td>4.106667</td>\n",
       "      <td>7.000000</td>\n",
       "      <td>0.000000</td>\n",
       "      <td>0.000000</td>\n",
       "      <td>0.000000</td>\n",
       "      <td>2.354545</td>\n",
       "    </tr>\n",
       "    <tr>\n",
       "      <th>50%</th>\n",
       "      <td>4.400000</td>\n",
       "      <td>167.000000</td>\n",
       "      <td>1.000000</td>\n",
       "      <td>52.000000</td>\n",
       "      <td>0.288889</td>\n",
       "      <td>3.957435</td>\n",
       "    </tr>\n",
       "    <tr>\n",
       "      <th>75%</th>\n",
       "      <td>4.600000</td>\n",
       "      <td>571.035565</td>\n",
       "      <td>1.000000</td>\n",
       "      <td>118.000000</td>\n",
       "      <td>0.655556</td>\n",
       "      <td>4.344444</td>\n",
       "    </tr>\n",
       "    <tr>\n",
       "      <th>max</th>\n",
       "      <td>5.000000</td>\n",
       "      <td>29242.000000</td>\n",
       "      <td>1.000000</td>\n",
       "      <td>180.000000</td>\n",
       "      <td>1.000000</td>\n",
       "      <td>5.000000</td>\n",
       "    </tr>\n",
       "  </tbody>\n",
       "</table>\n",
       "</div>"
      ],
      "text/plain": [
       "       Product Rating  Product Reviews Count      Clicked  View_Time_Sec  \\\n",
       "count     5000.000000            5000.000000  5000.000000    5000.000000   \n",
       "mean         4.311178             571.035565     0.694800      64.052600   \n",
       "std          0.587811            2033.317010     0.460538      60.194755   \n",
       "min          1.000000               1.000000     0.000000       0.000000   \n",
       "25%          4.106667               7.000000     0.000000       0.000000   \n",
       "50%          4.400000             167.000000     1.000000      52.000000   \n",
       "75%          4.600000             571.035565     1.000000     118.000000   \n",
       "max          5.000000           29242.000000     1.000000     180.000000   \n",
       "\n",
       "       Norm_View_Time       Rating  \n",
       "count     5000.000000  5000.000000  \n",
       "mean         0.355848     3.553637  \n",
       "std          0.334415     1.003667  \n",
       "min          0.000000     0.500000  \n",
       "25%          0.000000     2.354545  \n",
       "50%          0.288889     3.957435  \n",
       "75%          0.655556     4.344444  \n",
       "max          1.000000     5.000000  "
      ]
     },
     "metadata": {},
     "output_type": "display_data"
    }
   ],
   "source": [
    "  \n",
    "# 📊 Statistiques descriptives après nettoyage  \n",
    "print(\"\\n📊 Statistiques descriptives après nettoyage:\")  \n",
    "display(df.describe())"
   ]
  },
  {
   "cell_type": "code",
   "execution_count": 27,
   "id": "884eebd1-e964-433a-8db2-f42adfdba2b5",
   "metadata": {},
   "outputs": [
    {
     "data": {
      "image/png": "[encoded data removed]",
      "text/plain": [
       "<Figure size 1000x600 with 1 Axes>"
      ]
     },
     "metadata": {},
     "output_type": "display_data"
    }
   ],
   "source": [
    "  \n",
    "# 📈 Visualisation de la distribution des ratings  \n",
    "plt.figure(figsize=(10, 6))  \n",
    "plt.hist(df['Rating'], bins=20, alpha=0.7, color='skyblue')  \n",
    "plt.title('Distribution des ratings hybrides')  \n",
    "plt.xlabel('Rating')  \n",
    "plt.ylabel('Fréquence')  \n",
    "plt.grid(alpha=0.3)  \n",
    "plt.show()  "
   ]
  },
  {
   "cell_type": "code",
   "execution_count": 29,
   "id": "1d1407c8-f998-4893-b9b3-de2caff075fa",
   "metadata": {},
   "outputs": [
    {
     "name": "stdout",
     "output_type": "stream",
     "text": [
      "\n",
      "✅ Nettoyage terminé\n",
      "Forme finale : (5000, 14)\n",
      "Valeurs manquantes restantes :\n"
     ]
    },
    {
     "data": {
      "text/plain": [
       "Uniq Id                  0\n",
       "Product Id               0\n",
       "Product Rating           0\n",
       "Product Reviews Count    0\n",
       "Clicked                  0\n",
       "View_Time_Sec            0\n",
       "Product Name             0\n",
       "Product Description      0\n",
       "Product Tags             0\n",
       "Product Category         0\n",
       "Product Brand            0\n",
       "Full_Text                0\n",
       "Norm_View_Time           0\n",
       "Rating                   0\n",
       "dtype: int64"
      ]
     },
     "metadata": {},
     "output_type": "display_data"
    }
   ],
   "source": [
    " \n",
    "# ✅ Vérification finale  \n",
    "print(\"\\n✅ Nettoyage terminé\")  \n",
    "print(f\"Forme finale : {df.shape}\")  \n",
    "print(\"Valeurs manquantes restantes :\")  \n",
    "display(df.isnull().sum())  "
   ]
  },
  {
   "cell_type": "code",
   "execution_count": 31,
   "id": "ee567e98-e0f4-442e-a827-5cbc351dc90a",
   "metadata": {},
   "outputs": [
    {
     "name": "stdout",
     "output_type": "stream",
     "text": [
      "\n",
      "💾 Sauvegarde du DataFrame nettoyé...\n",
      "DataFrame sauvegardé dans '../data/processed/clean_dataset.csv'\n"
     ]
    }
   ],
   "source": [
    "# 💾 Sauvegarde du DataFrame nettoyé  \n",
    "print(\"\\n💾 Sauvegarde du DataFrame nettoyé...\")  \n",
    "df.to_csv('../data/processed/clean_dataset.csv', index=False)  \n",
    "print(\"DataFrame sauvegardé dans '../data/processed/clean_dataset.csv'\")\n"
   ]
  },
  {
   "cell_type": "code",
   "execution_count": 33,
   "id": "dd6c85db-7d5c-4382-926c-04badc53a733",
   "metadata": {},
   "outputs": [
    {
     "name": "stdout",
     "output_type": "stream",
     "text": [
      "DataFrame sauvegardé en format pickle dans '../data/processed/clean_dataset.pkl'\n",
      "\n",
      "✅ Préparation des données terminée!\n"
     ]
    }
   ],
   "source": [
    "# Sauvegarde en format pickle pour préserver les types de données  \n",
    "with open('../data/processed/clean_dataset.pkl', 'wb') as f:  \n",
    "    pickle.dump(df, f)  \n",
    "print(\"DataFrame sauvegardé en format pickle dans '../data/processed/clean_dataset.pkl'\")  \n",
    "  \n",
    "print(\"\\n✅ Préparation des données terminée!\")"
   ]
  },
  {
   "cell_type": "code",
   "execution_count": null,
   "id": "4b937bad-1010-4d47-9c78-476614e9da0d",
   "metadata": {},
   "outputs": [],
   "source": []
  }
 ],
 "metadata": {
  "kernelspec": {
   "display_name": "Python [conda env:recsys-base]",
   "language": "python",
   "name": "conda-env-recsys-base-py"
  },
  "language_info": {
   "codemirror_mode": {
    "name": "ipython",
    "version": 3
   },
   "file_extension": ".py",
   "mimetype": "text/x-python",
   "name": "python",
   "nbconvert_exporter": "python",
   "pygments_lexer": "ipython3",
   "version": "3.10.16"
  }
 },
 "nbformat": 4,
 "nbformat_minor": 5
}
