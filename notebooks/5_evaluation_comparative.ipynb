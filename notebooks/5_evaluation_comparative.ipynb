{
 "cells": [
  {
   "cell_type": "code",
   "execution_count": 21,
   "id": "1bfd142d-17b4-4ba4-b63a-810dfdc9c557",
   "metadata": {},
   "outputs": [],
   "source": [
    "  \n",
    "# 📦 Importation des bibliothèques  \n",
    "import pandas as pd  \n",
    "import numpy as np  \n",
    "import matplotlib.pyplot as plt  \n",
    "import seaborn as sns  \n",
    "import pickle  \n",
    "import os  \n",
    "from sklearn.metrics.pairwise import cosine_similarity  \n",
    "from collections import Counter  \n",
    "import warnings  \n",
    "warnings.filterwarnings(\"ignore\")  "
   ]
  },
  {
   "cell_type": "code",
   "execution_count": 22,
   "id": "dafb672f-a697-4740-8098-e54463878529",
   "metadata": {},
   "outputs": [
    {
     "name": "stdout",
     "output_type": "stream",
     "text": [
      "Chargement des données préparées...\n",
      "Données chargées depuis le fichier pickle.\n"
     ]
    }
   ],
   "source": [
    "# 📊 Chargement des données préparées  \n",
    "print(\"Chargement des données préparées...\")  \n",
    "try:  \n",
    "    # Essayer de charger depuis le fichier pickle  \n",
    "    with open('../data/processed/clean_dataset.pkl', 'rb') as f:  \n",
    "        df = pickle.load(f)  \n",
    "    print(\"Données chargées depuis le fichier pickle.\")  \n",
    "except:  \n",
    "    # Sinon, charger depuis le CSV  \n",
    "    df = pd.read_csv('../data/processed/clean_dataset.csv')  \n",
    "    print(\"Données chargées depuis le fichier CSV.\")  "
   ]
  },
  {
   "cell_type": "code",
   "execution_count": 23,
   "id": "bee686b1-ccb8-41e8-85f4-3553b8b1d726",
   "metadata": {},
   "outputs": [
    {
     "name": "stdout",
     "output_type": "stream",
     "text": [
      "Nombre de produits uniques: 4802\n"
     ]
    }
   ],
   "source": [
    "# Création d'un DataFrame avec des produits uniques pour l'évaluation  \n",
    "products_df = df.drop_duplicates('Product Id')  \n",
    "print(f\"Nombre de produits uniques: {len(products_df)}\")  "
   ]
  },
  {
   "cell_type": "code",
   "execution_count": 24,
   "id": "eef1c1e0-bc16-4ded-b358-bb48c29fa7ab",
   "metadata": {},
   "outputs": [
    {
     "name": "stdout",
     "output_type": "stream",
     "text": [
      "\n",
      "Chargement des résultats des différents modèles...\n",
      "Résultats du filtrage collaboratif chargés.\n"
     ]
    }
   ],
   "source": [
    "# 📊 Chargement des résultats des différents modèles  \n",
    "print(\"\\nChargement des résultats des différents modèles...\")  \n",
    "  \n",
    "# Création des dossiers s'ils n'existent pas  \n",
    "os.makedirs('../results', exist_ok=True)  \n",
    "  \n",
    "# Chargement des résultats du filtrage collaboratif  \n",
    "try:  \n",
    "    with open('../results/collaborative_filtering_results.pkl', 'rb') as f:  \n",
    "        collab_results = pickle.load(f)  \n",
    "    print(\"Résultats du filtrage collaboratif chargés.\")  \n",
    "except:  \n",
    "    print(\"Erreur: Impossible de charger les résultats du filtrage collaboratif.\")  \n",
    "    collab_results = {  \n",
    "        'collaborative_filtering': {  \n",
    "            'svd': {'rmse': 0, 'mae': 0},  \n",
    "            'knn': {'rmse': 0, 'mae': 0}  \n",
    "        }  \n",
    "    }  "
   ]
  },
  {
   "cell_type": "code",
   "execution_count": 25,
   "id": "fe03b72a-3d88-4779-bac4-9e7ffd579e4f",
   "metadata": {},
   "outputs": [
    {
     "name": "stdout",
     "output_type": "stream",
     "text": [
      "Résultats du filtrage basé sur le contenu (TF-IDF) chargés.\n",
      "Résultats du filtrage basé sur le contenu (BERT) chargés.\n",
      "\n",
      "Chargement des modèles pour l'évaluation avancée...\n",
      "Modèle TF-IDF + KNN chargé avec succès.\n",
      "Modèle BERT + KNN chargé avec succès.\n"
     ]
    }
   ],
   "source": [
    "# Chargement des résultats du filtrage basé sur le contenu (TF-IDF)  \n",
    "try:  \n",
    "    with open('../results/tfidf_results.pkl', 'rb') as f:  \n",
    "        tfidf_results = pickle.load(f)  \n",
    "    print(\"Résultats du filtrage basé sur le contenu (TF-IDF) chargés.\")  \n",
    "except:  \n",
    "    print(\"Erreur: Impossible de charger les résultats du filtrage basé sur le contenu (TF-IDF).\")  \n",
    "    tfidf_results = {'tfidf_knn': {'category_precision': 0}}  \n",
    "  \n",
    "# Chargement des résultats du filtrage basé sur le contenu (BERT)  \n",
    "try:  \n",
    "    with open('../results/bert_results.pkl', 'rb') as f:  \n",
    "        bert_results = pickle.load(f)  \n",
    "    print(\"Résultats du filtrage basé sur le contenu (BERT) chargés.\")  \n",
    "except:  \n",
    "    print(\"Erreur: Impossible de charger les résultats du filtrage basé sur le contenu (BERT).\")  \n",
    "    bert_results = {'bert_knn': {'category_precision': 0}}  \n",
    "  \n",
    "# Chargement des modèles pour l'évaluation avancée  \n",
    "print(\"\\nChargement des modèles pour l'évaluation avancée...\")  \n",
    "  \n",
    "# Chargement du modèle TF-IDF et des vecteurs  \n",
    "try:  \n",
    "    with open('../models/content_based/tfidf_vectorizer.pkl', 'rb') as f:  \n",
    "        tfidf_vectorizer = pickle.load(f)  \n",
    "    with open('../models/content_based/tfidf_knn_model.pkl', 'rb') as f:  \n",
    "        tfidf_knn_model = pickle.load(f)  \n",
    "    print(\"Modèle TF-IDF + KNN chargé avec succès.\")  \n",
    "    tfidf_loaded = True  \n",
    "except:  \n",
    "    print(\"Erreur: Impossible de charger le modèle TF-IDF + KNN.\")  \n",
    "    tfidf_loaded = False  \n",
    "  \n",
    "# Chargement des embeddings BERT et du modèle KNN  \n",
    "try:  \n",
    "    with open('../models/content_based/bert_embeddings.pkl', 'rb') as f:  \n",
    "        bert_embeddings = pickle.load(f)  \n",
    "    with open('../models/content_based/bert_knn_model.pkl', 'rb') as f:  \n",
    "        bert_knn_model = pickle.load(f)  \n",
    "    print(\"Modèle BERT + KNN chargé avec succès.\")  \n",
    "    bert_loaded = True  \n",
    "except:  \n",
    "    print(\"Erreur: Impossible de charger le modèle BERT + KNN.\")  \n",
    "    bert_loaded = False  "
   ]
  },
  {
   "cell_type": "code",
   "execution_count": 26,
   "id": "0ae3fb05-e88b-4ca4-bf94-7a04065d81a0",
   "metadata": {},
   "outputs": [
    {
     "name": "stdout",
     "output_type": "stream",
     "text": [
      "\n",
      "📊 Comparaison des modèles de filtrage collaboratif:\n",
      "     Modèle      RMSE       MAE\n",
      "0       SVD  1.003413  0.884479\n",
      "1  KNNBasic  1.003519  0.885486\n"
     ]
    }
   ],
   "source": [
    "# 📊 Comparaison des modèles de filtrage collaboratif  \n",
    "print(\"\\n📊 Comparaison des modèles de filtrage collaboratif:\")  \n",
    "  \n",
    "# Extraction des métriques  \n",
    "svd_rmse = collab_results['collaborative_filtering']['svd']['rmse']  \n",
    "svd_mae = collab_results['collaborative_filtering']['svd']['mae']  \n",
    "knn_rmse = collab_results['collaborative_filtering']['knn']['rmse']  \n",
    "knn_mae = collab_results['collaborative_filtering']['knn']['mae']  \n",
    "  \n",
    "# Création d'un DataFrame pour la comparaison  \n",
    "collab_df = pd.DataFrame({  \n",
    "    'Modèle': ['SVD', 'KNNBasic'],  \n",
    "    'RMSE': [svd_rmse, knn_rmse],  \n",
    "    'MAE': [svd_mae, knn_mae]  \n",
    "})  \n",
    "  \n",
    "print(collab_df)  "
   ]
  },
  {
   "cell_type": "code",
   "execution_count": 27,
   "id": "5da3c43d-1c9a-4836-a970-d567d86548c2",
   "metadata": {},
   "outputs": [
    {
     "data": {
      "image/png": "[encoded data removed]",
      "text/plain": [
       "<Figure size 1500x600 with 2 Axes>"
      ]
     },
     "metadata": {},
     "output_type": "display_data"
    }
   ],
   "source": [
    " #Visualisation des résultats  \n",
    "fig, (ax1, ax2) = plt.subplots(1, 2, figsize=(15, 6))  \n",
    "  \n",
    "# RMSE  \n",
    "ax1.bar(collab_df['Modèle'], collab_df['RMSE'], color=['skyblue', 'lightgreen'])  \n",
    "ax1.set_title('RMSE par modèle de filtrage collaboratif')  \n",
    "ax1.set_ylabel('RMSE (plus bas = meilleur)')  \n",
    "for i, v in enumerate(collab_df['RMSE']):  \n",
    "    ax1.text(i, v + 0.01, f'{v:.4f}', ha='center')  \n",
    "  \n",
    "# MAE  \n",
    "ax2.bar(collab_df['Modèle'], collab_df['MAE'], color=['skyblue', 'lightgreen'])  \n",
    "ax2.set_title('MAE par modèle de filtrage collaboratif')  \n",
    "ax2.set_ylabel('MAE (plus bas = meilleur)')  \n",
    "for i, v in enumerate(collab_df['MAE']):  \n",
    "    ax2.text(i, v + 0.01, f'{v:.4f}', ha='center')  \n",
    "  \n",
    "plt.tight_layout()  \n",
    "plt.show()  "
   ]
  },
  {
   "cell_type": "code",
   "execution_count": 28,
   "id": "f2d61c46-af5b-44b8-98a5-7fc10ffa3269",
   "metadata": {},
   "outputs": [
    {
     "name": "stdout",
     "output_type": "stream",
     "text": [
      "\n",
      "🔍 Évaluation avancée des modèles de filtrage basé sur le contenu:\n"
     ]
    }
   ],
   "source": [
    "# 🔍 Fonctions d'évaluation avancées pour le filtrage basé sur le contenu  \n",
    "print(\"\\n🔍 Évaluation avancée des modèles de filtrage basé sur le contenu:\")  \n"
   ]
  },
  {
   "cell_type": "code",
   "execution_count": 29,
   "id": "e05145e9-3154-4765-89dd-315a1bfa11c6",
   "metadata": {},
   "outputs": [],
   "source": [
    "  \n",
    "# Calcul de Précision@k, Rappel@k et F1-score  \n",
    "def calculate_precision_recall_f1(recommendations, relevant_items, k=5):  \n",
    "    \"\"\"  \n",
    "    Calcule la Précision@k, le Rappel@k et le F1-score.  \n",
    "      \n",
    "    Args:  \n",
    "        recommendations: Liste des éléments recommandés  \n",
    "        relevant_items: Liste des éléments pertinents  \n",
    "        k: Nombre d'éléments à considérer  \n",
    "      \n",
    "    Returns:  \n",
    "        precision, recall, f1: Les métriques calculées  \n",
    "    \"\"\"  \n",
    "    recommendations_k = recommendations[:k]  \n",
    "    relevant_and_recommended = set(recommendations_k) & set(relevant_items)  \n",
    "      \n",
    "    precision = len(relevant_and_recommended) / len(recommendations_k) if recommendations_k else 0  \n",
    "    recall = len(relevant_and_recommended) / len(relevant_items) if relevant_items else 0  \n",
    "    f1 = 2 * (precision * recall) / (precision + recall) if (precision + recall) > 0 else 0  \n",
    "      \n",
    "    return precision, recall, f1"
   ]
  },
  {
   "cell_type": "code",
   "execution_count": 30,
   "id": "43c42365-16e7-479b-a011-7d539be61dff",
   "metadata": {},
   "outputs": [],
   "source": [
    "  \n",
    "# Calcul de la nouveauté  \n",
    "def calculate_novelty(recommendations, item_popularity, k=5):  \n",
    "    \"\"\"  \n",
    "    Calcule la nouveauté des recommandations.  \n",
    "      \n",
    "    Args:  \n",
    "        recommendations: Liste des éléments recommandés  \n",
    "        item_popularity: Dictionnaire {item: score de popularité}  \n",
    "        k: Nombre d'éléments à considérer  \n",
    "      \n",
    "    Returns:  \n",
    "        novelty: La nouveauté calculée  \n",
    "    \"\"\"  \n",
    "    recommendations_k = recommendations[:k]  \n",
    "    if not recommendations_k:  \n",
    "        return 0  \n",
    "      \n",
    "    # La nouveauté est inversement proportionnelle à la popularité  \n",
    "    total_novelty = 0  \n",
    "    for item in recommendations_k:  \n",
    "        popularity = item_popularity.get(item, 0)  \n",
    "        # Transformation logarithmique pour atténuer l'effet des valeurs extrêmes  \n",
    "        novelty = -np.log2(popularity) if popularity > 0 else 0  \n",
    "        total_novelty += novelty  \n",
    "      \n",
    "    average_novelty = total_novelty / len(recommendations_k)  \n",
    "    return average_novelty  \n",
    "  "
   ]
  },
  {
   "cell_type": "code",
   "execution_count": 33,
   "id": "2568eb89-806c-47e4-9e60-5a60945549ea",
   "metadata": {},
   "outputs": [
    {
     "name": "stdout",
     "output_type": "stream",
     "text": [
      "\n",
      "📊 Évaluation avancée des modèles de filtrage basé sur le contenu:\n"
     ]
    },
    {
     "data": {
      "text/html": [
       "<div>\n",
       "<style scoped>\n",
       "    .dataframe tbody tr th:only-of-type {\n",
       "        vertical-align: middle;\n",
       "    }\n",
       "\n",
       "    .dataframe tbody tr th {\n",
       "        vertical-align: top;\n",
       "    }\n",
       "\n",
       "    .dataframe thead th {\n",
       "        text-align: right;\n",
       "    }\n",
       "</style>\n",
       "<table border=\"1\" class=\"dataframe\">\n",
       "  <thead>\n",
       "    <tr style=\"text-align: right;\">\n",
       "      <th></th>\n",
       "      <th>Modèle</th>\n",
       "      <th>Précision@5</th>\n",
       "      <th>Rappel@5</th>\n",
       "      <th>Nouveauté</th>\n",
       "    </tr>\n",
       "  </thead>\n",
       "  <tbody>\n",
       "    <tr>\n",
       "      <th>0</th>\n",
       "      <td>TF-IDF + KNN</td>\n",
       "      <td>0.364444</td>\n",
       "      <td>0.131359</td>\n",
       "      <td>12.272157</td>\n",
       "    </tr>\n",
       "    <tr>\n",
       "      <th>1</th>\n",
       "      <td>BERT + KNN</td>\n",
       "      <td>0.362222</td>\n",
       "      <td>0.124857</td>\n",
       "      <td>12.270857</td>\n",
       "    </tr>\n",
       "  </tbody>\n",
       "</table>\n",
       "</div>"
      ],
      "text/plain": [
       "         Modèle  Précision@5  Rappel@5  Nouveauté\n",
       "0  TF-IDF + KNN     0.364444  0.131359  12.272157\n",
       "1    BERT + KNN     0.362222  0.124857  12.270857"
      ]
     },
     "metadata": {},
     "output_type": "display_data"
    }
   ],
   "source": [
    "# Évaluation avancée des modèles de filtrage basé sur le contenu    \n",
    "if tfidf_loaded and bert_loaded:    \n",
    "    print(\"\\n📊 Évaluation avancée des modèles de filtrage basé sur le contenu:\")    \n",
    "        \n",
    "    # Préparation des données pour l'évaluation    \n",
    "    # Calcul de la popularité des produits (nombre d'interactions)    \n",
    "    product_popularity = Counter(df['Product Id'])    \n",
    "    total_interactions = sum(product_popularity.values())    \n",
    "    # Normalisation de la popularité    \n",
    "    product_popularity = {k: v / total_interactions for k, v in product_popularity.items()}    \n",
    "      \n",
    "    # Création de la matrice TF-IDF - AJOUT DE CETTE LIGNE  \n",
    "    tfidf_matrix = tfidf_vectorizer.transform(products_df['Full_Text'])  \n",
    "        \n",
    "    # Initialisation des métriques (uniquement celles demandées)    \n",
    "    metrics = {    \n",
    "        'tfidf': {    \n",
    "            'precision@5': [],    \n",
    "            'recall@5': [],    \n",
    "            'novelty': []    \n",
    "        },    \n",
    "        'bert': {    \n",
    "            'precision@5': [],    \n",
    "            'recall@5': [],    \n",
    "            'novelty': []    \n",
    "        }    \n",
    "    }    \n",
    "    # Échantillonnage pour l'évaluation  \n",
    "    sample_size = min(100, len(products_df))  \n",
    "    sample_indices = np.random.choice(len(products_df), sample_size, replace=False)  \n",
    "      \n",
    "    # Évaluation pour chaque produit échantillonné  \n",
    "    for idx in sample_indices:  \n",
    "        product = products_df.iloc[idx]  \n",
    "        product_id = product['Product Id']  \n",
    "        product_category = product['Product Category']  \n",
    "          \n",
    "        # Trouver les produits pertinents (même catégorie)  \n",
    "        relevant_products = products_df[products_df['Product Category'] == product_category]['Product Id'].tolist()  \n",
    "        if product_id in relevant_products:  \n",
    "            relevant_products.remove(product_id)  # Exclure le produit lui-même  \n",
    "          \n",
    "        # Si aucun produit pertinent, passer au suivant  \n",
    "        if not relevant_products:  \n",
    "            continue  \n",
    "          \n",
    "        # Évaluation du modèle TF-IDF + KNN  \n",
    "        if tfidf_loaded:  \n",
    "            tfidf_vector = tfidf_matrix[idx].reshape(1, -1)  \n",
    "            tfidf_distances, tfidf_indices = tfidf_knn_model.kneighbors(tfidf_vector)  \n",
    "              \n",
    "            # Convertir les indices en IDs de produits  \n",
    "            tfidf_recommendations = [products_df.iloc[idx]['Product Id'] for idx in tfidf_indices[0][1:6]]  \n",
    "              \n",
    "            # Calcul des métriques demandées  \n",
    "            precision, recall, _ = calculate_precision_recall_f1(tfidf_recommendations, relevant_products, k=5)  \n",
    "            novelty = calculate_novelty(tfidf_recommendations, product_popularity, k=5)  \n",
    "              \n",
    "            # Stockage des résultats  \n",
    "            metrics['tfidf']['precision@5'].append(precision)  \n",
    "            metrics['tfidf']['recall@5'].append(recall)  \n",
    "            metrics['tfidf']['novelty'].append(novelty)  \n",
    "          \n",
    "        # Évaluation du modèle BERT + KNN  \n",
    "        if bert_loaded:  \n",
    "            bert_vector = bert_embeddings[idx].reshape(1, -1)  \n",
    "            bert_distances, bert_indices = bert_knn_model.kneighbors(bert_vector)  \n",
    "              \n",
    "            # Convertir les indices en IDs de produits  \n",
    "            bert_recommendations = [products_df.iloc[idx]['Product Id'] for idx in bert_indices[0][1:6]]  \n",
    "              \n",
    "            # Calcul des métriques demandées  \n",
    "            precision, recall, _ = calculate_precision_recall_f1(bert_recommendations, relevant_products, k=5)  \n",
    "            novelty = calculate_novelty(bert_recommendations, product_popularity, k=5)  \n",
    "              \n",
    "            # Stockage des résultats  \n",
    "            metrics['bert']['precision@5'].append(precision)  \n",
    "            metrics['bert']['recall@5'].append(recall)  \n",
    "            metrics['bert']['novelty'].append(novelty)  \n",
    "      \n",
    "    # Calcul des moyennes pour chaque métrique  \n",
    "    avg_metrics = {  \n",
    "        'tfidf': {  \n",
    "            'precision@5': np.mean(metrics['tfidf']['precision@5']),  \n",
    "            'recall@5': np.mean(metrics['tfidf']['recall@5']),  \n",
    "            'novelty': np.mean(metrics['tfidf']['novelty'])  \n",
    "        },  \n",
    "        'bert': {  \n",
    "            'precision@5': np.mean(metrics['bert']['precision@5']),  \n",
    "            'recall@5': np.mean(metrics['bert']['recall@5']),  \n",
    "            'novelty': np.mean(metrics['bert']['novelty'])  \n",
    "        }  \n",
    "    }  \n",
    "\n",
    "results_df = pd.DataFrame({\n",
    "    'Modèle': ['TF-IDF + KNN', 'BERT + KNN'],\n",
    "    'Précision@5': [avg_metrics['tfidf']['precision@5'], avg_metrics['bert']['precision@5']],\n",
    "    'Rappel@5': [avg_metrics['tfidf']['recall@5'], avg_metrics['bert']['recall@5']],\n",
    "    'Nouveauté': [avg_metrics['tfidf']['novelty'], avg_metrics['bert']['novelty']]\n",
    "})\n",
    "display(results_df)\n"
   ]
  },
  {
   "cell_type": "code",
   "execution_count": null,
   "id": "a16815c4-4c10-4057-9aeb-bccbc2752a4d",
   "metadata": {},
   "outputs": [],
   "source": []
  }
 ],
 "metadata": {
  "kernelspec": {
   "display_name": "Python [conda env:base] *",
   "language": "python",
   "name": "conda-base-py"
  },
  "language_info": {
   "codemirror_mode": {
    "name": "ipython",
    "version": 3
   },
   "file_extension": ".py",
   "mimetype": "text/x-python",
   "name": "python",
   "nbconvert_exporter": "python",
   "pygments_lexer": "ipython3",
   "version": "3.12.3"
  }
 },
 "nbformat": 4,
 "nbformat_minor": 5
}
