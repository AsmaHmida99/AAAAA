{
 "cells": [
  {
   "cell_type": "code",
   "execution_count": 1,
   "id": "09050e11-1a35-413c-959f-79e2c848189e",
   "metadata": {},
   "outputs": [],
   "source": [
    "# 📦 Importation des bibliothèques  \n",
    "from sentence_transformers import SentenceTransformer  \n",
    "from sklearn.neighbors import NearestNeighbors  \n",
    "import numpy as np  \n",
    "import pandas as pd  \n",
    "import matplotlib.pyplot as plt  \n",
    "import pickle  \n",
    "import os  \n",
    "import warnings  \n",
    "warnings.filterwarnings(\"ignore\")  "
   ]
  },
  {
   "cell_type": "code",
   "execution_count": 2,
   "id": "62bc9aa7-7d66-4b37-abc7-993d521d4a6d",
   "metadata": {},
   "outputs": [
    {
     "name": "stdout",
     "output_type": "stream",
     "text": [
      "Chargement des données préparées...\n",
      "Données chargées depuis le fichier pickle.\n",
      "Forme du dataset: (5000, 14)\n",
      "\n",
      "Aperçu des données:\n"
     ]
    },
    {
     "data": {
      "text/html": [
       "<div>\n",
       "<style scoped>\n",
       "    .dataframe tbody tr th:only-of-type {\n",
       "        vertical-align: middle;\n",
       "    }\n",
       "\n",
       "    .dataframe tbody tr th {\n",
       "        vertical-align: top;\n",
       "    }\n",
       "\n",
       "    .dataframe thead th {\n",
       "        text-align: right;\n",
       "    }\n",
       "</style>\n",
       "<table border=\"1\" class=\"dataframe\">\n",
       "  <thead>\n",
       "    <tr style=\"text-align: right;\">\n",
       "      <th></th>\n",
       "      <th>Uniq Id</th>\n",
       "      <th>Product Id</th>\n",
       "      <th>Product Rating</th>\n",
       "      <th>Product Reviews Count</th>\n",
       "      <th>Clicked</th>\n",
       "      <th>View_Time_Sec</th>\n",
       "      <th>Product Name</th>\n",
       "      <th>Product Description</th>\n",
       "      <th>Product Tags</th>\n",
       "      <th>Product Category</th>\n",
       "      <th>Product Brand</th>\n",
       "      <th>Full_Text</th>\n",
       "      <th>Norm_View_Time</th>\n",
       "      <th>Rating</th>\n",
       "    </tr>\n",
       "  </thead>\n",
       "  <tbody>\n",
       "    <tr>\n",
       "      <th>0</th>\n",
       "      <td>1705736792d82aa2f2d3caf1c07c53f4</td>\n",
       "      <td>2e17bf4acecdece67fc00f07ad62c910</td>\n",
       "      <td>4.218750</td>\n",
       "      <td>571.035565</td>\n",
       "      <td>0</td>\n",
       "      <td>0</td>\n",
       "      <td>OPI Infinite Shine, Nail Lacquer Nail Polish, ...</td>\n",
       "      <td></td>\n",
       "      <td>OPI Infinite Shine, Nail Lacquer Nail Polish, ...</td>\n",
       "      <td>Premium Beauty &gt; Premium Makeup &gt; Premium Nail...</td>\n",
       "      <td>OPI</td>\n",
       "      <td>opi infinite shine, nail lacquer nail polish,...</td>\n",
       "      <td>0.000000</td>\n",
       "      <td>2.109375</td>\n",
       "    </tr>\n",
       "    <tr>\n",
       "      <th>1</th>\n",
       "      <td>95a9fe6f4810fcfc7ff244fd06784f11</td>\n",
       "      <td>076e5854a62dd283c253d6bae415af1f</td>\n",
       "      <td>3.966667</td>\n",
       "      <td>571.035565</td>\n",
       "      <td>1</td>\n",
       "      <td>147</td>\n",
       "      <td>Nice n Easy Permanent Color, 111 Natural Mediu...</td>\n",
       "      <td>Pack of 3 Pack of 3 for the UPC: 381519000201 ...</td>\n",
       "      <td>Nice 'n Easy Permanent Color, 111 Natural Medi...</td>\n",
       "      <td>Beauty &gt; Hair Care &gt; Hair Color &gt; Auburn Hair ...</td>\n",
       "      <td>Nice'n Easy</td>\n",
       "      <td>pack of 3 pack of 3 for the upc: 381519000201 ...</td>\n",
       "      <td>0.816667</td>\n",
       "      <td>4.300000</td>\n",
       "    </tr>\n",
       "    <tr>\n",
       "      <th>2</th>\n",
       "      <td>8d4d0330178d3ed181b15a4102b287f2</td>\n",
       "      <td>8a4fe5d9c7a6ed26cc44d785a454b124</td>\n",
       "      <td>4.500000</td>\n",
       "      <td>29221.000000</td>\n",
       "      <td>0</td>\n",
       "      <td>0</td>\n",
       "      <td>Clairol Nice N Easy Permanent Color 7/106A Nat...</td>\n",
       "      <td>This Clairol Nice N Easy Permanent Color gives...</td>\n",
       "      <td>Clairol Nice 'N Easy Permanent Color 7/106A Na...</td>\n",
       "      <td>Beauty &gt; Hair Care &gt; Hair Color &gt; Permanent Ha...</td>\n",
       "      <td>Clairol</td>\n",
       "      <td>this clairol nice n easy permanent color gives...</td>\n",
       "      <td>0.000000</td>\n",
       "      <td>2.250000</td>\n",
       "    </tr>\n",
       "    <tr>\n",
       "      <th>3</th>\n",
       "      <td>fddc4df45b35efd886794b261f730c51</td>\n",
       "      <td>03b5fb878a33eadff8b033419eab9669</td>\n",
       "      <td>4.024138</td>\n",
       "      <td>571.035565</td>\n",
       "      <td>0</td>\n",
       "      <td>0</td>\n",
       "      <td>Kokie Professional Matte Lipstick, Hot Berry, ...</td>\n",
       "      <td>Calling all matte lip lovers! Indulge in our r...</td>\n",
       "      <td>Kokie Professional Matte Lipstick, Hot Berry, ...</td>\n",
       "      <td>Beauty &gt; Makeup &gt; Lip</td>\n",
       "      <td>Kokie Cosmetics</td>\n",
       "      <td>calling all matte lip lovers! indulge in our r...</td>\n",
       "      <td>0.000000</td>\n",
       "      <td>2.012069</td>\n",
       "    </tr>\n",
       "    <tr>\n",
       "      <th>4</th>\n",
       "      <td>0990cf89a59ca6a0460349a3e4f51d42</td>\n",
       "      <td>ce3d761e57d6ccad80619297b5b1bcbc</td>\n",
       "      <td>5.000000</td>\n",
       "      <td>131.000000</td>\n",
       "      <td>1</td>\n",
       "      <td>177</td>\n",
       "      <td>Gillette TRAC II Plus Razor Blade Refills, Fit...</td>\n",
       "      <td>In 1971, Gillette introduced the Trac II razor...</td>\n",
       "      <td>Gillette TRAC II Plus Razor Blade Refills, Fit...</td>\n",
       "      <td>Seasonal &gt; Stock Up Essentials &gt; Personal Care...</td>\n",
       "      <td>Gillette</td>\n",
       "      <td>in 1971, gillette introduced the trac ii razor...</td>\n",
       "      <td>0.983333</td>\n",
       "      <td>4.983333</td>\n",
       "    </tr>\n",
       "  </tbody>\n",
       "</table>\n",
       "</div>"
      ],
      "text/plain": [
       "                            Uniq Id                        Product Id  \\\n",
       "0  1705736792d82aa2f2d3caf1c07c53f4  2e17bf4acecdece67fc00f07ad62c910   \n",
       "1  95a9fe6f4810fcfc7ff244fd06784f11  076e5854a62dd283c253d6bae415af1f   \n",
       "2  8d4d0330178d3ed181b15a4102b287f2  8a4fe5d9c7a6ed26cc44d785a454b124   \n",
       "3  fddc4df45b35efd886794b261f730c51  03b5fb878a33eadff8b033419eab9669   \n",
       "4  0990cf89a59ca6a0460349a3e4f51d42  ce3d761e57d6ccad80619297b5b1bcbc   \n",
       "\n",
       "   Product Rating  Product Reviews Count  Clicked  View_Time_Sec  \\\n",
       "0        4.218750             571.035565        0              0   \n",
       "1        3.966667             571.035565        1            147   \n",
       "2        4.500000           29221.000000        0              0   \n",
       "3        4.024138             571.035565        0              0   \n",
       "4        5.000000             131.000000        1            177   \n",
       "\n",
       "                                        Product Name  \\\n",
       "0  OPI Infinite Shine, Nail Lacquer Nail Polish, ...   \n",
       "1  Nice n Easy Permanent Color, 111 Natural Mediu...   \n",
       "2  Clairol Nice N Easy Permanent Color 7/106A Nat...   \n",
       "3  Kokie Professional Matte Lipstick, Hot Berry, ...   \n",
       "4  Gillette TRAC II Plus Razor Blade Refills, Fit...   \n",
       "\n",
       "                                 Product Description  \\\n",
       "0                                                      \n",
       "1  Pack of 3 Pack of 3 for the UPC: 381519000201 ...   \n",
       "2  This Clairol Nice N Easy Permanent Color gives...   \n",
       "3  Calling all matte lip lovers! Indulge in our r...   \n",
       "4  In 1971, Gillette introduced the Trac II razor...   \n",
       "\n",
       "                                        Product Tags  \\\n",
       "0  OPI Infinite Shine, Nail Lacquer Nail Polish, ...   \n",
       "1  Nice 'n Easy Permanent Color, 111 Natural Medi...   \n",
       "2  Clairol Nice 'N Easy Permanent Color 7/106A Na...   \n",
       "3  Kokie Professional Matte Lipstick, Hot Berry, ...   \n",
       "4  Gillette TRAC II Plus Razor Blade Refills, Fit...   \n",
       "\n",
       "                                    Product Category    Product Brand  \\\n",
       "0  Premium Beauty > Premium Makeup > Premium Nail...              OPI   \n",
       "1  Beauty > Hair Care > Hair Color > Auburn Hair ...      Nice'n Easy   \n",
       "2  Beauty > Hair Care > Hair Color > Permanent Ha...          Clairol   \n",
       "3                              Beauty > Makeup > Lip  Kokie Cosmetics   \n",
       "4  Seasonal > Stock Up Essentials > Personal Care...         Gillette   \n",
       "\n",
       "                                           Full_Text  Norm_View_Time    Rating  \n",
       "0   opi infinite shine, nail lacquer nail polish,...        0.000000  2.109375  \n",
       "1  pack of 3 pack of 3 for the upc: 381519000201 ...        0.816667  4.300000  \n",
       "2  this clairol nice n easy permanent color gives...        0.000000  2.250000  \n",
       "3  calling all matte lip lovers! indulge in our r...        0.000000  2.012069  \n",
       "4  in 1971, gillette introduced the trac ii razor...        0.983333  4.983333  "
      ]
     },
     "metadata": {},
     "output_type": "display_data"
    }
   ],
   "source": [
    "# 📊 Chargement des données préparées  \n",
    "print(\"Chargement des données préparées...\")  \n",
    "try:  \n",
    "    # Essayer de charger depuis le fichier pickle  \n",
    "    with open('../data/processed/clean_dataset.pkl', 'rb') as f:  \n",
    "        df = pickle.load(f)  \n",
    "    print(\"Données chargées depuis le fichier pickle.\")  \n",
    "except:  \n",
    "    # Sinon, charger depuis le CSV  \n",
    "    df = pd.read_csv('../data/processed/clean_dataset.csv')  \n",
    "    print(\"Données chargées depuis le fichier CSV.\")  \n",
    "  \n",
    "print(f\"Forme du dataset: {df.shape}\")  \n",
    "print(\"\\nAperçu des données:\")  \n",
    "display(df.head())  "
   ]
  },
  {
   "cell_type": "code",
   "execution_count": 3,
   "id": "1953269b-3e5c-4274-b9d3-8cbacd07638a",
   "metadata": {},
   "outputs": [
    {
     "name": "stdout",
     "output_type": "stream",
     "text": [
      "\n",
      "📊 Préparation des données pour le filtrage basé sur le contenu (BERT + KNN)...\n",
      "Nombre de produits uniques: 4802\n"
     ]
    }
   ],
   "source": [
    "  \n",
    "# 📊 Préparation des données pour le filtrage basé sur le contenu  \n",
    "print(\"\\n📊 Préparation des données pour le filtrage basé sur le contenu (BERT + KNN)...\")  \n",
    "  \n",
    "# Création d'un DataFrame avec des produits uniques  \n",
    "products_df = df.drop_duplicates('Product Id')  \n",
    "print(f\"Nombre de produits uniques: {products_df['Product Id'].nunique()}\")  "
   ]
  },
  {
   "cell_type": "code",
   "execution_count": 4,
   "id": "bc171a4b-2b57-4b76-bf20-9819898c6e18",
   "metadata": {},
   "outputs": [
    {
     "name": "stdout",
     "output_type": "stream",
     "text": [
      "\n",
      "🔧 Génération des embeddings BERT...\n"
     ]
    },
    {
     "data": {
      "application/vnd.jupyter.widget-view+json": {
       "model_id": "29e5431953b94b22b67515b2eb26b00a",
       "version_major": 2,
       "version_minor": 0
      },
      "text/plain": [
       "Downloading:   0%|          | 0.00/744 [00:00<?, ?B/s]"
      ]
     },
     "metadata": {},
     "output_type": "display_data"
    },
    {
     "data": {
      "application/vnd.jupyter.widget-view+json": {
       "model_id": "1ff1ba5504a24759a46ef30b2712f284",
       "version_major": 2,
       "version_minor": 0
      },
      "text/plain": [
       "Downloading:   0%|          | 0.00/190 [00:00<?, ?B/s]"
      ]
     },
     "metadata": {},
     "output_type": "display_data"
    },
    {
     "data": {
      "application/vnd.jupyter.widget-view+json": {
       "model_id": "36fc2417cdb64af7b39c1c8bd0edcd22",
       "version_major": 2,
       "version_minor": 0
      },
      "text/plain": [
       "Downloading:   0%|          | 0.00/3.51k [00:00<?, ?B/s]"
      ]
     },
     "metadata": {},
     "output_type": "display_data"
    },
    {
     "data": {
      "application/vnd.jupyter.widget-view+json": {
       "model_id": "b9d3fb2ac3d3480b9b8cfebd84e8e8a2",
       "version_major": 2,
       "version_minor": 0
      },
      "text/plain": [
       "Downloading:   0%|          | 0.00/629 [00:00<?, ?B/s]"
      ]
     },
     "metadata": {},
     "output_type": "display_data"
    },
    {
     "data": {
      "application/vnd.jupyter.widget-view+json": {
       "model_id": "8e1efb0d64f7459c856b60cf5b3224b7",
       "version_major": 2,
       "version_minor": 0
      },
      "text/plain": [
       "Downloading:   0%|          | 0.00/122 [00:00<?, ?B/s]"
      ]
     },
     "metadata": {},
     "output_type": "display_data"
    },
    {
     "data": {
      "application/vnd.jupyter.widget-view+json": {
       "model_id": "664ff5bfbe884046a094853e6f2132b1",
       "version_major": 2,
       "version_minor": 0
      },
      "text/plain": [
       "Downloading:   0%|          | 0.00/90.9M [00:00<?, ?B/s]"
      ]
     },
     "metadata": {},
     "output_type": "display_data"
    },
    {
     "data": {
      "application/vnd.jupyter.widget-view+json": {
       "model_id": "0acc6158cb4840dd93abdfaab8b5423a",
       "version_major": 2,
       "version_minor": 0
      },
      "text/plain": [
       "Downloading:   0%|          | 0.00/90.4M [00:00<?, ?B/s]"
      ]
     },
     "metadata": {},
     "output_type": "display_data"
    },
    {
     "data": {
      "application/vnd.jupyter.widget-view+json": {
       "model_id": "ebfca80e8eb14923ab08f6d286a36a8b",
       "version_major": 2,
       "version_minor": 0
      },
      "text/plain": [
       "Downloading:   0%|          | 0.00/90.4M [00:00<?, ?B/s]"
      ]
     },
     "metadata": {},
     "output_type": "display_data"
    },
    {
     "data": {
      "application/vnd.jupyter.widget-view+json": {
       "model_id": "7c56a5433d6c4af1ab65c759bf835b4e",
       "version_major": 2,
       "version_minor": 0
      },
      "text/plain": [
       "Downloading:   0%|          | 0.00/90.3M [00:00<?, ?B/s]"
      ]
     },
     "metadata": {},
     "output_type": "display_data"
    },
    {
     "data": {
      "application/vnd.jupyter.widget-view+json": {
       "model_id": "475de24939654ea2acfdbb5fcb10f81e",
       "version_major": 2,
       "version_minor": 0
      },
      "text/plain": [
       "Downloading:   0%|          | 0.00/90.3M [00:00<?, ?B/s]"
      ]
     },
     "metadata": {},
     "output_type": "display_data"
    },
    {
     "data": {
      "application/vnd.jupyter.widget-view+json": {
       "model_id": "fc2e3a9af44741f6b28692d77e775138",
       "version_major": 2,
       "version_minor": 0
      },
      "text/plain": [
       "Downloading:   0%|          | 0.00/45.2M [00:00<?, ?B/s]"
      ]
     },
     "metadata": {},
     "output_type": "display_data"
    },
    {
     "data": {
      "application/vnd.jupyter.widget-view+json": {
       "model_id": "fabdbe2ee4444d5cb308cfb9852e147c",
       "version_major": 2,
       "version_minor": 0
      },
      "text/plain": [
       "Downloading:   0%|          | 0.00/23.0M [00:00<?, ?B/s]"
      ]
     },
     "metadata": {},
     "output_type": "display_data"
    },
    {
     "data": {
      "application/vnd.jupyter.widget-view+json": {
       "model_id": "e30673836ef6443990e87b5a1728bf75",
       "version_major": 2,
       "version_minor": 0
      },
      "text/plain": [
       "Downloading:   0%|          | 0.00/23.0M [00:00<?, ?B/s]"
      ]
     },
     "metadata": {},
     "output_type": "display_data"
    },
    {
     "data": {
      "application/vnd.jupyter.widget-view+json": {
       "model_id": "ef41c683c428498286a48afaa0ea2352",
       "version_major": 2,
       "version_minor": 0
      },
      "text/plain": [
       "Downloading:   0%|          | 0.00/23.0M [00:00<?, ?B/s]"
      ]
     },
     "metadata": {},
     "output_type": "display_data"
    },
    {
     "data": {
      "application/vnd.jupyter.widget-view+json": {
       "model_id": "d1e54fa9cd784135a975807de50ce698",
       "version_major": 2,
       "version_minor": 0
      },
      "text/plain": [
       "Downloading:   0%|          | 0.00/23.0M [00:00<?, ?B/s]"
      ]
     },
     "metadata": {},
     "output_type": "display_data"
    },
    {
     "data": {
      "application/vnd.jupyter.widget-view+json": {
       "model_id": "9d62baa739914e4381d6aaf6d1eebfd4",
       "version_major": 2,
       "version_minor": 0
      },
      "text/plain": [
       "Downloading:   0%|          | 0.00/90.3M [00:00<?, ?B/s]"
      ]
     },
     "metadata": {},
     "output_type": "display_data"
    },
    {
     "data": {
      "application/vnd.jupyter.widget-view+json": {
       "model_id": "3c4e52140d934ca0b1becde08d39d2d9",
       "version_major": 2,
       "version_minor": 0
      },
      "text/plain": [
       "Downloading:   0%|          | 0.00/211k [00:00<?, ?B/s]"
      ]
     },
     "metadata": {},
     "output_type": "display_data"
    },
    {
     "data": {
      "application/vnd.jupyter.widget-view+json": {
       "model_id": "97d7d8f630684ff6b290cecf358c1122",
       "version_major": 2,
       "version_minor": 0
      },
      "text/plain": [
       "Downloading:   0%|          | 0.00/22.9M [00:00<?, ?B/s]"
      ]
     },
     "metadata": {},
     "output_type": "display_data"
    },
    {
     "data": {
      "application/vnd.jupyter.widget-view+json": {
       "model_id": "5cb9c7c626be463791ba3e4751f22128",
       "version_major": 2,
       "version_minor": 0
      },
      "text/plain": [
       "Downloading:   0%|          | 0.00/368k [00:00<?, ?B/s]"
      ]
     },
     "metadata": {},
     "output_type": "display_data"
    },
    {
     "data": {
      "application/vnd.jupyter.widget-view+json": {
       "model_id": "118144df34a7457bb39d5d57e51f3018",
       "version_major": 2,
       "version_minor": 0
      },
      "text/plain": [
       "Downloading:   0%|          | 0.00/90.9M [00:00<?, ?B/s]"
      ]
     },
     "metadata": {},
     "output_type": "display_data"
    },
    {
     "data": {
      "application/vnd.jupyter.widget-view+json": {
       "model_id": "8aed09d2508f449f9c5e5ecb0fd09581",
       "version_major": 2,
       "version_minor": 0
      },
      "text/plain": [
       "Downloading:   0%|          | 0.00/53.0 [00:00<?, ?B/s]"
      ]
     },
     "metadata": {},
     "output_type": "display_data"
    },
    {
     "data": {
      "application/vnd.jupyter.widget-view+json": {
       "model_id": "16f251153c914e55a3e494743f0d521c",
       "version_major": 2,
       "version_minor": 0
      },
      "text/plain": [
       "Downloading:   0%|          | 0.00/112 [00:00<?, ?B/s]"
      ]
     },
     "metadata": {},
     "output_type": "display_data"
    },
    {
     "data": {
      "application/vnd.jupyter.widget-view+json": {
       "model_id": "dac1f3a1e18346b3b55af9760114473d",
       "version_major": 2,
       "version_minor": 0
      },
      "text/plain": [
       "Downloading:   0%|          | 0.00/466k [00:00<?, ?B/s]"
      ]
     },
     "metadata": {},
     "output_type": "display_data"
    },
    {
     "data": {
      "application/vnd.jupyter.widget-view+json": {
       "model_id": "5cd354815d344cb1927cc80febba92e9",
       "version_major": 2,
       "version_minor": 0
      },
      "text/plain": [
       "Downloading:   0%|          | 0.00/314 [00:00<?, ?B/s]"
      ]
     },
     "metadata": {},
     "output_type": "display_data"
    },
    {
     "data": {
      "application/vnd.jupyter.widget-view+json": {
       "model_id": "f3ba2b3e767342e88aaff86aa82fdde9",
       "version_major": 2,
       "version_minor": 0
      },
      "text/plain": [
       "Downloading:   0%|          | 0.00/232k [00:00<?, ?B/s]"
      ]
     },
     "metadata": {},
     "output_type": "display_data"
    },
    {
     "data": {
      "application/vnd.jupyter.widget-view+json": {
       "model_id": "de1e36ccae1144d6b213cec0b55b4184",
       "version_major": 2,
       "version_minor": 0
      },
      "text/plain": [
       "Downloading:   0%|          | 0.00/229 [00:00<?, ?B/s]"
      ]
     },
     "metadata": {},
     "output_type": "display_data"
    },
    {
     "name": "stdout",
     "output_type": "stream",
     "text": [
      "Modèle BERT chargé: paraphrase-MiniLM-L6-v2\n",
      "Génération des embeddings pour les descriptions de produits...\n"
     ]
    },
    {
     "data": {
      "application/vnd.jupyter.widget-view+json": {
       "model_id": "6ae46ffd6e694481a3aee09fa1fdc298",
       "version_major": 2,
       "version_minor": 0
      },
      "text/plain": [
       "Batches:   0%|          | 0/151 [00:00<?, ?it/s]"
      ]
     },
     "metadata": {},
     "output_type": "display_data"
    },
    {
     "name": "stdout",
     "output_type": "stream",
     "text": [
      "Forme des embeddings: (4802, 384)\n"
     ]
    }
   ],
   "source": [
    " \n",
    "# 🔧 Génération des embeddings BERT  \n",
    "print(\"\\n🔧 Génération des embeddings BERT...\")  \n",
    "# Chargement du modèle BERT pré-entraîné  \n",
    "model = SentenceTransformer('paraphrase-MiniLM-L6-v2')  \n",
    "print(\"Modèle BERT chargé: paraphrase-MiniLM-L6-v2\")  \n",
    "  \n",
    "# Génération des embeddings pour chaque produit  \n",
    "print(\"Génération des embeddings pour les descriptions de produits...\")  \n",
    "embeddings = model.encode(products_df['Full_Text'].tolist(), show_progress_bar=True)  \n",
    "print(f\"Forme des embeddings: {embeddings.shape}\")  "
   ]
  },
  {
   "cell_type": "code",
   "execution_count": 5,
   "id": "bd1183ad-481f-4611-be81-96362dbf20b2",
   "metadata": {},
   "outputs": [
    {
     "name": "stdout",
     "output_type": "stream",
     "text": [
      "\n",
      "🔍 Entraînement du modèle KNN sur les embeddings BERT...\n",
      "Modèle KNN entraîné avec succès.\n"
     ]
    }
   ],
   "source": [
    "  \n",
    "# 🔍 Modèle KNN pour BERT  \n",
    "print(\"\\n🔍 Entraînement du modèle KNN sur les embeddings BERT...\")  \n",
    "knn_model = NearestNeighbors(  \n",
    "    n_neighbors=10,       # Nombre de voisins à trouver  \n",
    "    algorithm='auto',     # Choix automatique de l'algorithme  \n",
    "    metric='cosine'       # Mesure de similarité cosinus  \n",
    ")  \n",
    "knn_model.fit(embeddings)  \n",
    "print(\"Modèle KNN entraîné avec succès.\")  "
   ]
  },
  {
   "cell_type": "code",
   "execution_count": 6,
   "id": "2365b811-26fd-4515-b607-12fdf518b22b",
   "metadata": {},
   "outputs": [
    {
     "name": "stdout",
     "output_type": "stream",
     "text": [
      "\n",
      "🔮 Exemple de recommandation avec BERT + KNN:\n",
      "Produit sélectionné: GloMinerals Eye Blender (Brush)\n",
      "Catégorie: Premium Beauty > Premium Tools & Brushes > Premium Makeup Tools & Brushes\n",
      "\n",
      "Produits similaires:\n",
      "1. NARS Eye Paint, Baalbek (Similarité: 0.6871)\n",
      "   Catégorie: Premium Beauty > Premium Makeup > Premium Eyes > Premium Eyeshadow\n",
      "2. Obagi Elastiderm Eye Cream, 0.5 oz (Similarité: 0.6861)\n",
      "   Catégorie: Premium Beauty > Premium Facial Skincare > Premium Eye Cream & Treatments\n",
      "3. Clinique All About Eyes, Eye Cream, 0.5 Oz (Similarité: 0.6691)\n",
      "   Catégorie: Premium Beauty > Premium Facial Skincare > Premium Eye Cream & Treatments\n",
      "4. Power Oils Lip Gloss (Similarité: 0.6657)\n",
      "   Catégorie: Premium Beauty > Premium Makeup > Premium Lips > Premium Lip Gloss\n",
      "5. Laura Mercier Tone Perfecting Eye Gel Crème 0.5 oz (Similarité: 0.6629)\n",
      "   Catégorie: Premium Beauty > Premium Facial Skincare > Premium Eye Cream & Treatments\n"
     ]
    }
   ],
   "source": [
    "  \n",
    "# 🔮 Exemple de recommandation  \n",
    "print(\"\\n🔮 Exemple de recommandation avec BERT + KNN:\")  \n",
    "# Sélectionner un produit aléatoire  \n",
    "sample_idx = np.random.randint(0, len(products_df))  \n",
    "sample_product = products_df.iloc[sample_idx]  \n",
    "print(f\"Produit sélectionné: {sample_product['Product Name']}\")  \n",
    "print(f\"Catégorie: {sample_product['Product Category']}\")  \n",
    "  \n",
    "# Trouver les produits similaires  \n",
    "sample_vector = embeddings[sample_idx].reshape(1, -1)  \n",
    "distances, indices = knn_model.kneighbors(sample_vector)  \n",
    "  \n",
    "print(\"\\nProduits similaires:\")  \n",
    "for i, idx in enumerate(indices[0][1:6]):  # Ignorer le premier qui est le produit lui-même  \n",
    "    similar_product = products_df.iloc[idx]  \n",
    "    print(f\"{i+1}. {similar_product['Product Name']} (Similarité: {1-distances[0][i+1]:.4f})\")  \n",
    "    print(f\"   Catégorie: {similar_product['Product Category']}\")  "
   ]
  },
  {
   "cell_type": "code",
   "execution_count": 8,
   "id": "b9646bf1-fa58-48f7-97c2-5ea5f3aecd7a",
   "metadata": {},
   "outputs": [
    {
     "name": "stdout",
     "output_type": "stream",
     "text": [
      "\n",
      "📊 Évaluation du modèle BERT + KNN:\n",
      "Précision de la catégorie: 0.2700\n"
     ]
    }
   ],
   "source": [
    "# 📊 Évaluation  \n",
    "print(\"\\n📊 Évaluation du modèle BERT + KNN:\")  \n",
    "# Calcul de la précision de la catégorie  \n",
    "same_category_count = 0  \n",
    "total_recommendations = 0  \n",
    "  \n",
    "# Échantillonner 100 produits aléatoires pour l'évaluation  \n",
    "sample_size = min(100, len(products_df))  \n",
    "sample_indices = np.random.choice(len(products_df), sample_size, replace=False)  \n",
    "  \n",
    "for idx in sample_indices:  \n",
    "    product = products_df.iloc[idx]  \n",
    "    product_vector = embeddings[idx].reshape(1, -1)  \n",
    "    distances, indices = knn_model.kneighbors(product_vector)  \n",
    "      \n",
    "    # Vérifier si les 5 premiers produits recommandés sont de la même catégorie  \n",
    "    for rec_idx in indices[0][1:6]:  \n",
    "        recommended_product = products_df.iloc[rec_idx]  \n",
    "        if recommended_product['Product Category'] == product['Product Category']:  \n",
    "            same_category_count += 1  \n",
    "        total_recommendations += 1  \n",
    "  \n",
    "category_precision = same_category_count / total_recommendations  \n",
    "print(f\"Précision de la catégorie: {category_precision:.4f}\") "
   ]
  },
  {
   "cell_type": "code",
   "execution_count": 9,
   "id": "d4f1840d-d33b-44ec-8cde-7fcb8a98c615",
   "metadata": {},
   "outputs": [
    {
     "name": "stdout",
     "output_type": "stream",
     "text": [
      "\n",
      "💾 Sauvegarde du modèle et des résultats...\n",
      "Embeddings BERT sauvegardés dans '../models/content_based/bert_embeddings.pkl'\n",
      "Modèle KNN pour BERT sauvegardé dans '../models/content_based/bert_knn_model.pkl'\n",
      "Résultats sauvegardés dans '../results/bert_results.pkl'\n",
      "\n",
      "✅ Filtrage basé sur le contenu (BERT + KNN) terminé!\n"
     ]
    }
   ],
   "source": [
    "  \n",
    "# Sauvegarde des résultats pour l'évaluation comparative  \n",
    "results = {  \n",
    "    'bert_knn': {  \n",
    "        'category_precision': category_precision  \n",
    "    }  \n",
    "}  \n",
    "  \n",
    "# 💾 Sauvegarde du modèle et des résultats  \n",
    "print(\"\\n💾 Sauvegarde du modèle et des résultats...\")  \n",
    "  \n",
    "# Créer les dossiers s'ils n'existent pas  \n",
    "os.makedirs('../models/content_based', exist_ok=True)  \n",
    "os.makedirs('../results', exist_ok=True)  \n",
    "  \n",
    "# Sauvegarde des embeddings BERT  \n",
    "with open('../models/content_based/bert_embeddings.pkl', 'wb') as f:  \n",
    "    pickle.dump(embeddings, f)  \n",
    "print(\"Embeddings BERT sauvegardés dans '../models/content_based/bert_embeddings.pkl'\")  \n",
    "  \n",
    "# Sauvegarde du modèle KNN  \n",
    "with open('../models/content_based/bert_knn_model.pkl', 'wb') as f:  \n",
    "    pickle.dump(knn_model, f)  \n",
    "print(\"Modèle KNN pour BERT sauvegardé dans '../models/content_based/bert_knn_model.pkl'\")  \n",
    "  \n",
    "# Sauvegarde des résultats  \n",
    "with open('../results/bert_results.pkl', 'wb') as f:  \n",
    "    pickle.dump(results, f)  \n",
    "print(\"Résultats sauvegardés dans '../results/bert_results.pkl'\")  \n",
    "  \n",
    "print(\"\\n✅ Filtrage basé sur le contenu (BERT + KNN) terminé!\")"
   ]
  },
  {
   "cell_type": "code",
   "execution_count": null,
   "id": "18b2f917-74bb-4d36-bdcf-5f15c7f7e0b2",
   "metadata": {},
   "outputs": [],
   "source": []
  }
 ],
 "metadata": {
  "kernelspec": {
   "display_name": "Python 3 (ipykernel)",
   "language": "python",
   "name": "python3"
  },
  "language_info": {
   "codemirror_mode": {
    "name": "ipython",
    "version": 3
   },
   "file_extension": ".py",
   "mimetype": "text/x-python",
   "name": "python",
   "nbconvert_exporter": "python",
   "pygments_lexer": "ipython3",
   "version": "3.10.16"
  }
 },
 "nbformat": 4,
 "nbformat_minor": 5
}
