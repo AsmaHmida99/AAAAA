{
 "cells": [
  {
   "cell_type": "code",
   "execution_count": 1,
   "id": "96229748-ad2f-4424-b9cb-ca7097531da0",
   "metadata": {},
   "outputs": [],
   "source": [
    "# 2_collaborative_filtering.ipynb  \n",
    "  \n",
    "# 📦 Importation des bibliothèques  \n",
    "import pandas as pd  \n",
    "import numpy as np  \n",
    "import matplotlib.pyplot as plt  \n",
    "import seaborn as sns  \n",
    "import pickle  \n",
    "from surprise import SVD, KNNBasic, Dataset, Reader  \n",
    "from surprise.model_selection import cross_validate, train_test_split  \n",
    "from surprise.accuracy import rmse, mae  \n",
    "import warnings  \n",
    "warnings.filterwarnings(\"ignore\")  "
   ]
  },
  {
   "cell_type": "code",
   "execution_count": 3,
   "id": "c4a55660-2591-4dc1-b86c-acc4889aecaf",
   "metadata": {},
   "outputs": [
    {
     "name": "stdout",
     "output_type": "stream",
     "text": [
      "Chargement des données préparées...\n",
      "Données chargées depuis le fichier pickle.\n",
      "Forme du dataset: (5000, 14)\n",
      "\n",
      "Aperçu des données:\n"
     ]
    },
    {
     "data": {
      "text/html": [
       "<div>\n",
       "<style scoped>\n",
       "    .dataframe tbody tr th:only-of-type {\n",
       "        vertical-align: middle;\n",
       "    }\n",
       "\n",
       "    .dataframe tbody tr th {\n",
       "        vertical-align: top;\n",
       "    }\n",
       "\n",
       "    .dataframe thead th {\n",
       "        text-align: right;\n",
       "    }\n",
       "</style>\n",
       "<table border=\"1\" class=\"dataframe\">\n",
       "  <thead>\n",
       "    <tr style=\"text-align: right;\">\n",
       "      <th></th>\n",
       "      <th>Uniq Id</th>\n",
       "      <th>Product Id</th>\n",
       "      <th>Product Rating</th>\n",
       "      <th>Product Reviews Count</th>\n",
       "      <th>Clicked</th>\n",
       "      <th>View_Time_Sec</th>\n",
       "      <th>Product Name</th>\n",
       "      <th>Product Description</th>\n",
       "      <th>Product Tags</th>\n",
       "      <th>Product Category</th>\n",
       "      <th>Product Brand</th>\n",
       "      <th>Full_Text</th>\n",
       "      <th>Norm_View_Time</th>\n",
       "      <th>Rating</th>\n",
       "    </tr>\n",
       "  </thead>\n",
       "  <tbody>\n",
       "    <tr>\n",
       "      <th>0</th>\n",
       "      <td>1705736792d82aa2f2d3caf1c07c53f4</td>\n",
       "      <td>2e17bf4acecdece67fc00f07ad62c910</td>\n",
       "      <td>4.218750</td>\n",
       "      <td>571.035565</td>\n",
       "      <td>0</td>\n",
       "      <td>0</td>\n",
       "      <td>OPI Infinite Shine, Nail Lacquer Nail Polish, ...</td>\n",
       "      <td></td>\n",
       "      <td>OPI Infinite Shine, Nail Lacquer Nail Polish, ...</td>\n",
       "      <td>Premium Beauty &gt; Premium Makeup &gt; Premium Nail...</td>\n",
       "      <td>OPI</td>\n",
       "      <td>opi infinite shine, nail lacquer nail polish,...</td>\n",
       "      <td>0.000000</td>\n",
       "      <td>2.109375</td>\n",
       "    </tr>\n",
       "    <tr>\n",
       "      <th>1</th>\n",
       "      <td>95a9fe6f4810fcfc7ff244fd06784f11</td>\n",
       "      <td>076e5854a62dd283c253d6bae415af1f</td>\n",
       "      <td>3.966667</td>\n",
       "      <td>571.035565</td>\n",
       "      <td>1</td>\n",
       "      <td>147</td>\n",
       "      <td>Nice n Easy Permanent Color, 111 Natural Mediu...</td>\n",
       "      <td>Pack of 3 Pack of 3 for the UPC: 381519000201 ...</td>\n",
       "      <td>Nice 'n Easy Permanent Color, 111 Natural Medi...</td>\n",
       "      <td>Beauty &gt; Hair Care &gt; Hair Color &gt; Auburn Hair ...</td>\n",
       "      <td>Nice'n Easy</td>\n",
       "      <td>pack of 3 pack of 3 for the upc: 381519000201 ...</td>\n",
       "      <td>0.816667</td>\n",
       "      <td>4.300000</td>\n",
       "    </tr>\n",
       "    <tr>\n",
       "      <th>2</th>\n",
       "      <td>8d4d0330178d3ed181b15a4102b287f2</td>\n",
       "      <td>8a4fe5d9c7a6ed26cc44d785a454b124</td>\n",
       "      <td>4.500000</td>\n",
       "      <td>29221.000000</td>\n",
       "      <td>0</td>\n",
       "      <td>0</td>\n",
       "      <td>Clairol Nice N Easy Permanent Color 7/106A Nat...</td>\n",
       "      <td>This Clairol Nice N Easy Permanent Color gives...</td>\n",
       "      <td>Clairol Nice 'N Easy Permanent Color 7/106A Na...</td>\n",
       "      <td>Beauty &gt; Hair Care &gt; Hair Color &gt; Permanent Ha...</td>\n",
       "      <td>Clairol</td>\n",
       "      <td>this clairol nice n easy permanent color gives...</td>\n",
       "      <td>0.000000</td>\n",
       "      <td>2.250000</td>\n",
       "    </tr>\n",
       "    <tr>\n",
       "      <th>3</th>\n",
       "      <td>fddc4df45b35efd886794b261f730c51</td>\n",
       "      <td>03b5fb878a33eadff8b033419eab9669</td>\n",
       "      <td>4.024138</td>\n",
       "      <td>571.035565</td>\n",
       "      <td>0</td>\n",
       "      <td>0</td>\n",
       "      <td>Kokie Professional Matte Lipstick, Hot Berry, ...</td>\n",
       "      <td>Calling all matte lip lovers! Indulge in our r...</td>\n",
       "      <td>Kokie Professional Matte Lipstick, Hot Berry, ...</td>\n",
       "      <td>Beauty &gt; Makeup &gt; Lip</td>\n",
       "      <td>Kokie Cosmetics</td>\n",
       "      <td>calling all matte lip lovers! indulge in our r...</td>\n",
       "      <td>0.000000</td>\n",
       "      <td>2.012069</td>\n",
       "    </tr>\n",
       "    <tr>\n",
       "      <th>4</th>\n",
       "      <td>0990cf89a59ca6a0460349a3e4f51d42</td>\n",
       "      <td>ce3d761e57d6ccad80619297b5b1bcbc</td>\n",
       "      <td>5.000000</td>\n",
       "      <td>131.000000</td>\n",
       "      <td>1</td>\n",
       "      <td>177</td>\n",
       "      <td>Gillette TRAC II Plus Razor Blade Refills, Fit...</td>\n",
       "      <td>In 1971, Gillette introduced the Trac II razor...</td>\n",
       "      <td>Gillette TRAC II Plus Razor Blade Refills, Fit...</td>\n",
       "      <td>Seasonal &gt; Stock Up Essentials &gt; Personal Care...</td>\n",
       "      <td>Gillette</td>\n",
       "      <td>in 1971, gillette introduced the trac ii razor...</td>\n",
       "      <td>0.983333</td>\n",
       "      <td>4.983333</td>\n",
       "    </tr>\n",
       "  </tbody>\n",
       "</table>\n",
       "</div>"
      ],
      "text/plain": [
       "                            Uniq Id                        Product Id  \\\n",
       "0  1705736792d82aa2f2d3caf1c07c53f4  2e17bf4acecdece67fc00f07ad62c910   \n",
       "1  95a9fe6f4810fcfc7ff244fd06784f11  076e5854a62dd283c253d6bae415af1f   \n",
       "2  8d4d0330178d3ed181b15a4102b287f2  8a4fe5d9c7a6ed26cc44d785a454b124   \n",
       "3  fddc4df45b35efd886794b261f730c51  03b5fb878a33eadff8b033419eab9669   \n",
       "4  0990cf89a59ca6a0460349a3e4f51d42  ce3d761e57d6ccad80619297b5b1bcbc   \n",
       "\n",
       "   Product Rating  Product Reviews Count  Clicked  View_Time_Sec  \\\n",
       "0        4.218750             571.035565        0              0   \n",
       "1        3.966667             571.035565        1            147   \n",
       "2        4.500000           29221.000000        0              0   \n",
       "3        4.024138             571.035565        0              0   \n",
       "4        5.000000             131.000000        1            177   \n",
       "\n",
       "                                        Product Name  \\\n",
       "0  OPI Infinite Shine, Nail Lacquer Nail Polish, ...   \n",
       "1  Nice n Easy Permanent Color, 111 Natural Mediu...   \n",
       "2  Clairol Nice N Easy Permanent Color 7/106A Nat...   \n",
       "3  Kokie Professional Matte Lipstick, Hot Berry, ...   \n",
       "4  Gillette TRAC II Plus Razor Blade Refills, Fit...   \n",
       "\n",
       "                                 Product Description  \\\n",
       "0                                                      \n",
       "1  Pack of 3 Pack of 3 for the UPC: 381519000201 ...   \n",
       "2  This Clairol Nice N Easy Permanent Color gives...   \n",
       "3  Calling all matte lip lovers! Indulge in our r...   \n",
       "4  In 1971, Gillette introduced the Trac II razor...   \n",
       "\n",
       "                                        Product Tags  \\\n",
       "0  OPI Infinite Shine, Nail Lacquer Nail Polish, ...   \n",
       "1  Nice 'n Easy Permanent Color, 111 Natural Medi...   \n",
       "2  Clairol Nice 'N Easy Permanent Color 7/106A Na...   \n",
       "3  Kokie Professional Matte Lipstick, Hot Berry, ...   \n",
       "4  Gillette TRAC II Plus Razor Blade Refills, Fit...   \n",
       "\n",
       "                                    Product Category    Product Brand  \\\n",
       "0  Premium Beauty > Premium Makeup > Premium Nail...              OPI   \n",
       "1  Beauty > Hair Care > Hair Color > Auburn Hair ...      Nice'n Easy   \n",
       "2  Beauty > Hair Care > Hair Color > Permanent Ha...          Clairol   \n",
       "3                              Beauty > Makeup > Lip  Kokie Cosmetics   \n",
       "4  Seasonal > Stock Up Essentials > Personal Care...         Gillette   \n",
       "\n",
       "                                           Full_Text  Norm_View_Time    Rating  \n",
       "0   opi infinite shine, nail lacquer nail polish,...        0.000000  2.109375  \n",
       "1  pack of 3 pack of 3 for the upc: 381519000201 ...        0.816667  4.300000  \n",
       "2  this clairol nice n easy permanent color gives...        0.000000  2.250000  \n",
       "3  calling all matte lip lovers! indulge in our r...        0.000000  2.012069  \n",
       "4  in 1971, gillette introduced the trac ii razor...        0.983333  4.983333  "
      ]
     },
     "metadata": {},
     "output_type": "display_data"
    }
   ],
   "source": [
    "# 📊 Chargement des données préparées  \n",
    "print(\"Chargement des données préparées...\")  \n",
    "try:  \n",
    "    # Essayer de charger depuis le fichier pickle  \n",
    "    with open('../data/processed/clean_dataset.pkl', 'rb') as f:  \n",
    "        df = pickle.load(f)  \n",
    "    print(\"Données chargées depuis le fichier pickle.\")  \n",
    "except:  \n",
    "    # Sinon, charger depuis le CSV  \n",
    "    df = pd.read_csv('../data/processed/clean_dataset.csv')  \n",
    "    print(\"Données chargées depuis le fichier CSV.\")  \n",
    "  \n",
    "print(f\"Forme du dataset: {df.shape}\")  \n",
    "print(\"\\nAperçu des données:\")  \n",
    "display(df.head())  "
   ]
  },
  {
   "cell_type": "code",
   "execution_count": 5,
   "id": "8f7b0f70-3022-4fc8-b9eb-6da488cb5f9a",
   "metadata": {},
   "outputs": [
    {
     "name": "stdout",
     "output_type": "stream",
     "text": [
      "\n",
      "📊 Préparation des données pour le filtrage collaboratif...\n",
      "Nombre d'utilisateurs uniques: 5000\n",
      "Nombre de produits uniques: 4802\n",
      "Nombre total d'interactions: 5000\n"
     ]
    }
   ],
   "source": [
    " \n",
    "# 📊 Préparation des données pour le filtrage collaboratif  \n",
    "print(\"\\n📊 Préparation des données pour le filtrage collaboratif...\")  \n",
    "data = df[['Uniq Id', 'Product Id', 'Rating']]  \n",
    "print(f\"Nombre d'utilisateurs uniques: {data['Uniq Id'].nunique()}\")  \n",
    "print(f\"Nombre de produits uniques: {data['Product Id'].nunique()}\")  \n",
    "print(f\"Nombre total d'interactions: {len(data)}\") "
   ]
  },
  {
   "cell_type": "code",
   "execution_count": 7,
   "id": "e9188270-1a09-43d2-b59b-4b2b114f7783",
   "metadata": {},
   "outputs": [
    {
     "data": {
      "image/png": "[encoded data removed]",
      "text/plain": [
       "<Figure size 1000x600 with 1 Axes>"
      ]
     },
     "metadata": {},
     "output_type": "display_data"
    }
   ],
   "source": [
    "  \n",
    "# Histogramme des ratings  \n",
    "plt.figure(figsize=(10, 6))  \n",
    "plt.hist(data['Rating'], bins=20, alpha=0.7, color='skyblue')  \n",
    "plt.title('Distribution des ratings')  \n",
    "plt.xlabel('Rating')  \n",
    "plt.ylabel('Fréquence')  \n",
    "plt.grid(alpha=0.3)  \n",
    "plt.show() "
   ]
  },
  {
   "cell_type": "code",
   "execution_count": 9,
   "id": "8d7b1ff2-ef3f-4ce9-91e1-ce5eb6225e61",
   "metadata": {},
   "outputs": [],
   "source": [
    "  \n",
    "# Création du dataset Surprise  \n",
    "reader = Reader(rating_scale=(1, 5))  \n",
    "dataset = Dataset.load_from_df(data, reader)  \n",
    "  \n",
    "# Division en ensembles d'entraînement et de test  \n",
    "trainset, testset = train_test_split(dataset, test_size=0.2, random_state=42)  "
   ]
  },
  {
   "cell_type": "code",
   "execution_count": 11,
   "id": "698365a1-c7fa-4386-a36c-e7f6fdf5de6d",
   "metadata": {},
   "outputs": [
    {
     "name": "stdout",
     "output_type": "stream",
     "text": [
      "\n",
      "🔹 Modèle 1: SVD (Singular Value Decomposition)\n",
      "Entraînement du modèle SVD...\n"
     ]
    },
    {
     "data": {
      "text/plain": [
       "<surprise.prediction_algorithms.matrix_factorization.SVD at 0x1b6564070d0>"
      ]
     },
     "execution_count": 11,
     "metadata": {},
     "output_type": "execute_result"
    }
   ],
   "source": [
    "  \n",
    "# 🔹 Modèle 1: SVD (Singular Value Decomposition)  \n",
    "print(\"\\n🔹 Modèle 1: SVD (Singular Value Decomposition)\")  \n",
    "print(\"Entraînement du modèle SVD...\")  \n",
    "svd_model = SVD()  \n",
    "svd_model.fit(trainset)  "
   ]
  },
  {
   "cell_type": "code",
   "execution_count": 13,
   "id": "c97ea75c-114c-4e63-9e1d-df6e7c1a1a1f",
   "metadata": {},
   "outputs": [
    {
     "name": "stdout",
     "output_type": "stream",
     "text": [
      "RMSE: 0.9936\n",
      "MAE:  0.8798\n",
      "RMSE: 0.9936\n",
      "MAE: 0.8798\n"
     ]
    }
   ],
   "source": [
    "  \n",
    "# Évaluation sur l'ensemble de test  \n",
    "svd_predictions = svd_model.test(testset)  \n",
    "svd_rmse = rmse(svd_predictions)  \n",
    "svd_mae = mae(svd_predictions)  \n",
    "  \n",
    "print(f\"RMSE: {svd_rmse:.4f}\")  \n",
    "print(f\"MAE: {svd_mae:.4f}\")  "
   ]
  },
  {
   "cell_type": "code",
   "execution_count": 15,
   "id": "8054c21b-9da4-4dc0-94e8-8fb1d6ee2fcc",
   "metadata": {},
   "outputs": [
    {
     "name": "stdout",
     "output_type": "stream",
     "text": [
      "\n",
      "Validation croisée pour SVD:\n",
      "Evaluating RMSE, MAE of algorithm SVD on 5 split(s).\n",
      "\n",
      "                  Fold 1  Fold 2  Fold 3  Fold 4  Fold 5  Mean    Std     \n",
      "RMSE (testset)    1.0054  0.9854  1.0206  0.9975  1.0082  1.0034  0.0117  \n",
      "MAE (testset)     0.8843  0.8686  0.8940  0.8827  0.8928  0.8845  0.0091  \n",
      "Fit time          0.12    0.14    0.15    0.15    0.15    0.14    0.01    \n",
      "Test time         0.01    0.02    0.01    0.02    0.01    0.01    0.00    \n",
      "\n",
      "RMSE moyen (validation croisée): 1.0034\n",
      "MAE moyen (validation croisée): 0.8845\n"
     ]
    }
   ],
   "source": [
    "  \n",
    "# Validation croisée pour une évaluation plus robuste  \n",
    "print(\"\\nValidation croisée pour SVD:\")  \n",
    "svd_cv_results = cross_validate(svd_model, dataset, measures=['RMSE', 'MAE'], cv=5, verbose=True)  \n",
    "  \n",
    "svd_mean_rmse = np.mean(svd_cv_results['test_rmse'])  \n",
    "svd_mean_mae = np.mean(svd_cv_results['test_mae'])  \n",
    "print(f\"\\nRMSE moyen (validation croisée): {svd_mean_rmse:.4f}\")  \n",
    "print(f\"MAE moyen (validation croisée): {svd_mean_mae:.4f}\") "
   ]
  },
  {
   "cell_type": "code",
   "execution_count": 16,
   "id": "0bbbcff7-da13-4dfa-b7d1-5109db1c04b2",
   "metadata": {},
   "outputs": [
    {
     "name": "stdout",
     "output_type": "stream",
     "text": [
      "\n",
      "🔹 Modèle 2: KNNBasic (User-Based)\n",
      "Entraînement du modèle KNNBasic...\n",
      "Computing the cosine similarity matrix...\n",
      "Done computing similarity matrix.\n"
     ]
    },
    {
     "data": {
      "text/plain": [
       "<surprise.prediction_algorithms.knns.KNNBasic at 0x1b656dac970>"
      ]
     },
     "execution_count": 16,
     "metadata": {},
     "output_type": "execute_result"
    }
   ],
   "source": [
    "  \n",
    "# 🔹 Modèle 2: KNNBasic (User-Based)  \n",
    "print(\"\\n🔹 Modèle 2: KNNBasic (User-Based)\")  \n",
    "print(\"Entraînement du modèle KNNBasic...\")  \n",
    "sim_options = {  \n",
    "    'name': 'cosine',  \n",
    "    'user_based': True  \n",
    "}  \n",
    "knn_model = KNNBasic(sim_options=sim_options)  \n",
    "knn_model.fit(trainset)  "
   ]
  },
  {
   "cell_type": "code",
   "execution_count": 19,
   "id": "dcb659c9-7116-4653-be3d-a9a297f4e7a2",
   "metadata": {},
   "outputs": [
    {
     "name": "stdout",
     "output_type": "stream",
     "text": [
      "RMSE: 0.9939\n",
      "MAE:  0.8811\n",
      "RMSE: 0.9939\n",
      "MAE: 0.8811\n"
     ]
    }
   ],
   "source": [
    "  \n",
    "# Évaluation sur l'ensemble de test  \n",
    "knn_predictions = knn_model.test(testset)  \n",
    "knn_rmse = rmse(knn_predictions)  \n",
    "knn_mae = mae(knn_predictions)  \n",
    "  \n",
    "print(f\"RMSE: {knn_rmse:.4f}\")  \n",
    "print(f\"MAE: {knn_mae:.4f}\") "
   ]
  },
  {
   "cell_type": "code",
   "execution_count": 21,
   "id": "8833a8af-90e6-43f3-957a-e908120ff2db",
   "metadata": {},
   "outputs": [
    {
     "name": "stdout",
     "output_type": "stream",
     "text": [
      "\n",
      "Validation croisée pour KNNBasic:\n",
      "Computing the cosine similarity matrix...\n",
      "Done computing similarity matrix.\n",
      "Computing the cosine similarity matrix...\n",
      "Done computing similarity matrix.\n",
      "Computing the cosine similarity matrix...\n",
      "Done computing similarity matrix.\n",
      "Computing the cosine similarity matrix...\n",
      "Done computing similarity matrix.\n",
      "Computing the cosine similarity matrix...\n",
      "Done computing similarity matrix.\n",
      "Evaluating RMSE, MAE of algorithm KNNBasic on 5 split(s).\n",
      "\n",
      "                  Fold 1  Fold 2  Fold 3  Fold 4  Fold 5  Mean    Std     \n",
      "RMSE (testset)    0.9647  1.0337  1.0126  0.9895  1.0171  1.0035  0.0240  \n",
      "MAE (testset)     0.8531  0.9180  0.8827  0.8759  0.8977  0.8855  0.0217  \n",
      "Fit time          0.45    0.49    0.55    0.49    0.51    0.50    0.03    \n",
      "Test time         0.02    0.01    0.02    0.02    0.02    0.02    0.00    \n",
      "\n",
      "RMSE moyen (validation croisée): 1.0035\n",
      "MAE moyen (validation croisée): 0.8855\n"
     ]
    }
   ],
   "source": [
    "  \n",
    "# Validation croisée pour une évaluation plus robuste  \n",
    "print(\"\\nValidation croisée pour KNNBasic:\")  \n",
    "knn_cv_results = cross_validate(knn_model, dataset, measures=['RMSE', 'MAE'], cv=5, verbose=True)  \n",
    "  \n",
    "knn_mean_rmse = np.mean(knn_cv_results['test_rmse'])  \n",
    "knn_mean_mae = np.mean(knn_cv_results['test_mae'])  \n",
    "print(f\"\\nRMSE moyen (validation croisée): {knn_mean_rmse:.4f}\")  \n",
    "print(f\"MAE moyen (validation croisée): {knn_mean_mae:.4f}\")  "
   ]
  },
  {
   "cell_type": "code",
   "execution_count": 23,
   "id": "497a3a81-83b9-44db-a874-438547af52f9",
   "metadata": {},
   "outputs": [
    {
     "name": "stdout",
     "output_type": "stream",
     "text": [
      "\n",
      "📊 Comparaison des modèles de filtrage collaboratif:\n"
     ]
    },
    {
     "data": {
      "image/png": "[encoded data removed]",
      "text/plain": [
       "<Figure size 1500x600 with 2 Axes>"
      ]
     },
     "metadata": {},
     "output_type": "display_data"
    }
   ],
   "source": [
    "  \n",
    "# 📊 Comparaison des modèles  \n",
    "print(\"\\n📊 Comparaison des modèles de filtrage collaboratif:\")  \n",
    "models = ['SVD', 'KNNBasic']  \n",
    "rmse_values = [svd_mean_rmse, knn_mean_rmse]  \n",
    "mae_values = [svd_mean_mae, knn_mean_mae]  \n",
    "  \n",
    "# Visualisation des résultats  \n",
    "fig, (ax1, ax2) = plt.subplots(1, 2, figsize=(15, 6))  \n",
    "  \n",
    "# RMSE  \n",
    "ax1.bar(models, rmse_values, color=['skyblue', 'lightgreen'])  \n",
    "ax1.set_title('RMSE par modèle')  \n",
    "ax1.set_ylabel('RMSE (plus bas = meilleur)')  \n",
    "for i, v in enumerate(rmse_values):  \n",
    "    ax1.text(i, v + 0.01, f'{v:.4f}', ha='center')  \n",
    "  \n",
    "# MAE  \n",
    "ax2.bar(models, mae_values, color=['skyblue', 'lightgreen'])  \n",
    "ax2.set_title('MAE par modèle')  \n",
    "ax2.set_ylabel('MAE (plus bas = meilleur)')  \n",
    "for i, v in enumerate(mae_values):  \n",
    "    ax2.text(i, v + 0.01, f'{v:.4f}', ha='center')  \n",
    "  \n",
    "plt.tight_layout()  \n",
    "plt.show()  "
   ]
  },
  {
   "cell_type": "code",
   "execution_count": 25,
   "id": "02ecfc17-01c9-48e7-91a6-942843e9d870",
   "metadata": {},
   "outputs": [
    {
     "name": "stdout",
     "output_type": "stream",
     "text": [
      "\n",
      "💾 Sauvegarde des modèles...\n",
      "Modèle SVD sauvegardé dans '../models/svd_model.pkl'\n",
      "Modèle KNNBasic sauvegardé dans '../models/knn_model.pkl'\n",
      "Résultats sauvegardés dans '../results/collaborative_filtering_results.pkl'\n"
     ]
    }
   ],
   "source": [
    "  \n",
    "# 💾 Sauvegarde des modèles  \n",
    "print(\"\\n💾 Sauvegarde des modèles...\")  \n",
    "import pickle  \n",
    "  \n",
    "with open('../models/collaborative/svd_model.pkl', 'wb') as f:  \n",
    "    pickle.dump(svd_model, f)  \n",
    "print(\"Modèle SVD sauvegardé dans '../models/svd_model.pkl'\")  \n",
    "  \n",
    "with open('../models/collaborative/knn_model.pkl', 'wb') as f:  \n",
    "    pickle.dump(knn_model, f)  \n",
    "print(\"Modèle KNNBasic sauvegardé dans '../models/knn_model.pkl'\")  \n",
    "  \n",
    "# Sauvegarde des résultats pour l'évaluation comparative  \n",
    "results = {  \n",
    "    'collaborative_filtering': {  \n",
    "        'svd': {  \n",
    "            'rmse': svd_mean_rmse,  \n",
    "            'mae': svd_mean_mae  \n",
    "        },  \n",
    "        'knn': {  \n",
    "            'rmse': knn_mean_rmse,  \n",
    "            'mae': knn_mean_mae  \n",
    "        }  \n",
    "    }  \n",
    "}  \n",
    "  \n",
    "with open('../results/collaborative_filtering_results.pkl', 'wb') as f:  \n",
    "    pickle.dump(results, f)  \n",
    "print(\"Résultats sauvegardés dans '../results/collaborative_filtering_results.pkl'\")  "
   ]
  },
  {
   "cell_type": "code",
   "execution_count": 27,
   "id": "ddf00fdf-3833-43c2-beab-975ed8ca05ed",
   "metadata": {},
   "outputs": [
    {
     "name": "stdout",
     "output_type": "stream",
     "text": [
      "\n",
      "🔮 Exemple de prédiction:\n",
      "Prédiction SVD pour l'utilisateur 8f763ad41d44575b970e082f8ef7beba et le produit e1db1e27f1e52bff71cb30b52c418ad4: 3.47\n",
      "Prédiction KNNBasic pour l'utilisateur 8f763ad41d44575b970e082f8ef7beba et le produit e1db1e27f1e52bff71cb30b52c418ad4: 3.56\n",
      "\n",
      "✅ Filtrage collaboratif terminé!\n"
     ]
    }
   ],
   "source": [
    "  \n",
    "# 🔮 Exemple de prédiction  \n",
    "print(\"\\n🔮 Exemple de prédiction:\")  \n",
    "# Sélectionner un utilisateur et un produit aléatoires  \n",
    "user_id = df['Uniq Id'].sample(1).iloc[0]  \n",
    "product_id = df['Product Id'].sample(1).iloc[0]  \n",
    "  \n",
    "# Prédire la note avec SVD  \n",
    "svd_prediction = svd_model.predict(user_id, product_id)  \n",
    "print(f\"Prédiction SVD pour l'utilisateur {user_id} et le produit {product_id}: {svd_prediction.est:.2f}\")  \n",
    "  \n",
    "# Prédire la note avec KNNBasic  \n",
    "knn_prediction = knn_model.predict(user_id, product_id)  \n",
    "print(f\"Prédiction KNNBasic pour l'utilisateur {user_id} et le produit {product_id}: {knn_prediction.est:.2f}\")  \n",
    "  \n",
    "print(\"\\n✅ Filtrage collaboratif terminé!\")"
   ]
  }
 ],
 "metadata": {
  "kernelspec": {
   "display_name": "Python [conda env:recsys-collab]",
   "language": "python",
   "name": "conda-env-recsys-collab-py"
  },
  "language_info": {
   "codemirror_mode": {
    "name": "ipython",
    "version": 3
   },
   "file_extension": ".py",
   "mimetype": "text/x-python",
   "name": "python",
   "nbconvert_exporter": "python",
   "pygments_lexer": "ipython3",
   "version": "3.10.16"
  }
 },
 "nbformat": 4,
 "nbformat_minor": 5
}
